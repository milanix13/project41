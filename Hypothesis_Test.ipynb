{
 "cells": [
  {
   "cell_type": "markdown",
   "id": "2d2cbbe3",
   "metadata": {},
   "source": [
    "## Hypothesis Testing"
   ]
  },
  {
   "cell_type": "markdown",
   "id": "fdc4e681",
   "metadata": {},
   "source": [
    "### Title 1"
   ]
  },
  {
   "cell_type": "code",
   "execution_count": 57,
   "id": "4f8bdef5",
   "metadata": {},
   "outputs": [],
   "source": [
    "# Import required libraries\n",
    "import pandas as pd\n",
    "\n",
    "from scipy.stats import normaltest\n",
    "import scipy.stats as stats\n",
    "import matplotlib.pyplot as plt\n",
    "import seaborn as sns\n",
    "import warnings\n",
    "\n",
    "import chart_studio.plotly as py\n",
    "import plotly.graph_objs as go\n",
    "from plotly.offline import download_plotlyjs, init_notebook_mode, plot, iplot\n",
    "\n",
    "# Filter warnings out\n",
    "warnings.filterwarnings('ignore')\n",
    "\n",
    "# Allow matplot plots in jupiter\n",
    "%matplotlib inline\n",
    "\n",
    "# Import a library with US state names\n",
    "from us_state_abbrev import *\n",
    "\n",
    "# Create a function that maps state abbreviation with name\n",
    "def map_state_name(ser):\n",
    "    ser = ser.map(abbrev_to_us_state)\n",
    "    return ser\n",
    "\n",
    "# Create a function that maps state name with abbreviation\n",
    "def map_state_abbrv(ser):\n",
    "    ser = ser.map(us_state_to_abbrev)\n",
    "    return ser\n",
    "\n",
    "# Get list of indexes of non-state rows in dataframe\n",
    "def get_non_state_indexes(df):\n",
    "    indexes = df[(df['state'] == 'AS') | (df['state'] == 'DC') |\n",
    "                  (df['state'] == 'FSM') | (df['state'] == 'GU') |\n",
    "                  (df['state'] == 'MP') | (df['state'] == 'NYC') |\n",
    "                  (df['state'] == 'PR') | (df['state'] == 'PW') |\n",
    "                  (df['state'] == 'RMI') | (df['state'] == 'VI')].index\n",
    "    return indexes"
   ]
  },
  {
   "cell_type": "code",
   "execution_count": 58,
   "id": "f6879c7b",
   "metadata": {},
   "outputs": [
    {
     "data": {
      "text/html": [
       "<div>\n",
       "<style scoped>\n",
       "    .dataframe tbody tr th:only-of-type {\n",
       "        vertical-align: middle;\n",
       "    }\n",
       "\n",
       "    .dataframe tbody tr th {\n",
       "        vertical-align: top;\n",
       "    }\n",
       "\n",
       "    .dataframe thead th {\n",
       "        text-align: right;\n",
       "    }\n",
       "</style>\n",
       "<table border=\"1\" class=\"dataframe\">\n",
       "  <thead>\n",
       "    <tr style=\"text-align: right;\">\n",
       "      <th></th>\n",
       "      <th>submission_date</th>\n",
       "      <th>state</th>\n",
       "      <th>tot_cases</th>\n",
       "      <th>conf_cases</th>\n",
       "      <th>prob_cases</th>\n",
       "      <th>new_case</th>\n",
       "      <th>pnew_case</th>\n",
       "      <th>tot_death</th>\n",
       "      <th>conf_death</th>\n",
       "      <th>prob_death</th>\n",
       "      <th>new_death</th>\n",
       "      <th>pnew_death</th>\n",
       "      <th>created_at</th>\n",
       "      <th>consent_cases</th>\n",
       "      <th>consent_deaths</th>\n",
       "    </tr>\n",
       "  </thead>\n",
       "  <tbody>\n",
       "    <tr>\n",
       "      <th>0</th>\n",
       "      <td>03/11/2021</td>\n",
       "      <td>KS</td>\n",
       "      <td>297229</td>\n",
       "      <td>241035.0</td>\n",
       "      <td>56194.0</td>\n",
       "      <td>0</td>\n",
       "      <td>0.0</td>\n",
       "      <td>4851</td>\n",
       "      <td>NaN</td>\n",
       "      <td>NaN</td>\n",
       "      <td>0</td>\n",
       "      <td>0.0</td>\n",
       "      <td>03/12/2021 03:20:13 PM</td>\n",
       "      <td>Agree</td>\n",
       "      <td>NaN</td>\n",
       "    </tr>\n",
       "    <tr>\n",
       "      <th>1</th>\n",
       "      <td>06/11/2021</td>\n",
       "      <td>TX</td>\n",
       "      <td>2965966</td>\n",
       "      <td>NaN</td>\n",
       "      <td>NaN</td>\n",
       "      <td>1463</td>\n",
       "      <td>355.0</td>\n",
       "      <td>51158</td>\n",
       "      <td>NaN</td>\n",
       "      <td>NaN</td>\n",
       "      <td>17</td>\n",
       "      <td>0.0</td>\n",
       "      <td>06/13/2021 12:00:00 AM</td>\n",
       "      <td>Not agree</td>\n",
       "      <td>Not agree</td>\n",
       "    </tr>\n",
       "    <tr>\n",
       "      <th>2</th>\n",
       "      <td>02/04/2020</td>\n",
       "      <td>AR</td>\n",
       "      <td>0</td>\n",
       "      <td>NaN</td>\n",
       "      <td>NaN</td>\n",
       "      <td>0</td>\n",
       "      <td>NaN</td>\n",
       "      <td>0</td>\n",
       "      <td>NaN</td>\n",
       "      <td>NaN</td>\n",
       "      <td>0</td>\n",
       "      <td>NaN</td>\n",
       "      <td>03/26/2020 04:22:39 PM</td>\n",
       "      <td>Not agree</td>\n",
       "      <td>Not agree</td>\n",
       "    </tr>\n",
       "    <tr>\n",
       "      <th>3</th>\n",
       "      <td>05/09/2021</td>\n",
       "      <td>PW</td>\n",
       "      <td>0</td>\n",
       "      <td>NaN</td>\n",
       "      <td>NaN</td>\n",
       "      <td>0</td>\n",
       "      <td>0.0</td>\n",
       "      <td>0</td>\n",
       "      <td>NaN</td>\n",
       "      <td>NaN</td>\n",
       "      <td>0</td>\n",
       "      <td>0.0</td>\n",
       "      <td>05/10/2021 02:15:36 PM</td>\n",
       "      <td>NaN</td>\n",
       "      <td>NaN</td>\n",
       "    </tr>\n",
       "    <tr>\n",
       "      <th>4</th>\n",
       "      <td>06/25/2021</td>\n",
       "      <td>MP</td>\n",
       "      <td>183</td>\n",
       "      <td>183.0</td>\n",
       "      <td>0.0</td>\n",
       "      <td>0</td>\n",
       "      <td>0.0</td>\n",
       "      <td>2</td>\n",
       "      <td>2.0</td>\n",
       "      <td>0.0</td>\n",
       "      <td>0</td>\n",
       "      <td>0.0</td>\n",
       "      <td>06/27/2021 12:00:00 AM</td>\n",
       "      <td>Agree</td>\n",
       "      <td>Agree</td>\n",
       "    </tr>\n",
       "  </tbody>\n",
       "</table>\n",
       "</div>"
      ],
      "text/plain": [
       "  submission_date state  tot_cases  conf_cases  prob_cases  new_case  \\\n",
       "0      03/11/2021    KS     297229    241035.0     56194.0         0   \n",
       "1      06/11/2021    TX    2965966         NaN         NaN      1463   \n",
       "2      02/04/2020    AR          0         NaN         NaN         0   \n",
       "3      05/09/2021    PW          0         NaN         NaN         0   \n",
       "4      06/25/2021    MP        183       183.0         0.0         0   \n",
       "\n",
       "   pnew_case  tot_death  conf_death  prob_death  new_death  pnew_death  \\\n",
       "0        0.0       4851         NaN         NaN          0         0.0   \n",
       "1      355.0      51158         NaN         NaN         17         0.0   \n",
       "2        NaN          0         NaN         NaN          0         NaN   \n",
       "3        0.0          0         NaN         NaN          0         0.0   \n",
       "4        0.0          2         2.0         0.0          0         0.0   \n",
       "\n",
       "               created_at consent_cases consent_deaths  \n",
       "0  03/12/2021 03:20:13 PM         Agree            NaN  \n",
       "1  06/13/2021 12:00:00 AM     Not agree      Not agree  \n",
       "2  03/26/2020 04:22:39 PM     Not agree      Not agree  \n",
       "3  05/10/2021 02:15:36 PM           NaN            NaN  \n",
       "4  06/27/2021 12:00:00 AM         Agree          Agree  "
      ]
     },
     "execution_count": 58,
     "metadata": {},
     "output_type": "execute_result"
    }
   ],
   "source": [
    "#Load your dataset into a dataframe\n",
    "# Read the file into a DataFrame: df\n",
    "df_us_covid = pd.read_csv('data/United_States_COVID-19_Cases_and_Deaths_by_State_over_Time.csv')\n",
    "\n",
    "#Visually inspect our dataframe using head method\n",
    "df_us_covid.head()"
   ]
  },
  {
   "cell_type": "code",
   "execution_count": 59,
   "id": "e49b82ca",
   "metadata": {},
   "outputs": [
    {
     "data": {
      "text/html": [
       "<div>\n",
       "<style scoped>\n",
       "    .dataframe tbody tr th:only-of-type {\n",
       "        vertical-align: middle;\n",
       "    }\n",
       "\n",
       "    .dataframe tbody tr th {\n",
       "        vertical-align: top;\n",
       "    }\n",
       "\n",
       "    .dataframe thead th {\n",
       "        text-align: right;\n",
       "    }\n",
       "</style>\n",
       "<table border=\"1\" class=\"dataframe\">\n",
       "  <thead>\n",
       "    <tr style=\"text-align: right;\">\n",
       "      <th></th>\n",
       "      <th>submission_date</th>\n",
       "      <th>state</th>\n",
       "      <th>tot_cases</th>\n",
       "      <th>conf_cases</th>\n",
       "      <th>prob_cases</th>\n",
       "      <th>new_case</th>\n",
       "      <th>tot_death</th>\n",
       "      <th>conf_death</th>\n",
       "      <th>prob_death</th>\n",
       "      <th>new_death</th>\n",
       "    </tr>\n",
       "  </thead>\n",
       "  <tbody>\n",
       "    <tr>\n",
       "      <th>0</th>\n",
       "      <td>2021-03-11</td>\n",
       "      <td>KS</td>\n",
       "      <td>297229</td>\n",
       "      <td>241035.0</td>\n",
       "      <td>56194.0</td>\n",
       "      <td>0</td>\n",
       "      <td>4851</td>\n",
       "      <td>0.0</td>\n",
       "      <td>0.0</td>\n",
       "      <td>0</td>\n",
       "    </tr>\n",
       "    <tr>\n",
       "      <th>1</th>\n",
       "      <td>2021-06-11</td>\n",
       "      <td>TX</td>\n",
       "      <td>2965966</td>\n",
       "      <td>0.0</td>\n",
       "      <td>0.0</td>\n",
       "      <td>1463</td>\n",
       "      <td>51158</td>\n",
       "      <td>0.0</td>\n",
       "      <td>0.0</td>\n",
       "      <td>17</td>\n",
       "    </tr>\n",
       "    <tr>\n",
       "      <th>2</th>\n",
       "      <td>2020-02-04</td>\n",
       "      <td>AR</td>\n",
       "      <td>0</td>\n",
       "      <td>0.0</td>\n",
       "      <td>0.0</td>\n",
       "      <td>0</td>\n",
       "      <td>0</td>\n",
       "      <td>0.0</td>\n",
       "      <td>0.0</td>\n",
       "      <td>0</td>\n",
       "    </tr>\n",
       "    <tr>\n",
       "      <th>5</th>\n",
       "      <td>2021-05-22</td>\n",
       "      <td>MA</td>\n",
       "      <td>704796</td>\n",
       "      <td>659246.0</td>\n",
       "      <td>45550.0</td>\n",
       "      <td>451</td>\n",
       "      <td>17818</td>\n",
       "      <td>17458.0</td>\n",
       "      <td>360.0</td>\n",
       "      <td>5</td>\n",
       "    </tr>\n",
       "    <tr>\n",
       "      <th>7</th>\n",
       "      <td>2021-08-01</td>\n",
       "      <td>GA</td>\n",
       "      <td>1187107</td>\n",
       "      <td>937515.0</td>\n",
       "      <td>249592.0</td>\n",
       "      <td>3829</td>\n",
       "      <td>21690</td>\n",
       "      <td>18725.0</td>\n",
       "      <td>2965.0</td>\n",
       "      <td>7</td>\n",
       "    </tr>\n",
       "  </tbody>\n",
       "</table>\n",
       "</div>"
      ],
      "text/plain": [
       "  submission_date state  tot_cases  conf_cases  prob_cases  new_case  \\\n",
       "0      2021-03-11    KS     297229    241035.0     56194.0         0   \n",
       "1      2021-06-11    TX    2965966         0.0         0.0      1463   \n",
       "2      2020-02-04    AR          0         0.0         0.0         0   \n",
       "5      2021-05-22    MA     704796    659246.0     45550.0       451   \n",
       "7      2021-08-01    GA    1187107    937515.0    249592.0      3829   \n",
       "\n",
       "   tot_death  conf_death  prob_death  new_death  \n",
       "0       4851         0.0         0.0          0  \n",
       "1      51158         0.0         0.0         17  \n",
       "2          0         0.0         0.0          0  \n",
       "5      17818     17458.0       360.0          5  \n",
       "7      21690     18725.0      2965.0          7  "
      ]
     },
     "execution_count": 59,
     "metadata": {},
     "output_type": "execute_result"
    }
   ],
   "source": [
    "# Create clean datasets\n",
    "# Drop the columns we do not need in our dataframe\n",
    "drop_cols = ['pnew_case', 'pnew_death', 'created_at', 'consent_cases', 'consent_deaths']\n",
    "df_us_covid.drop(drop_cols, axis = 1, inplace = True)\n",
    "\n",
    "# get list of rows that are not states\n",
    "non_state_ix = get_non_state_indexes(df_us_covid)\n",
    "\n",
    "# remove non states from the data\n",
    "df_us_covid.drop(non_state_ix, inplace = True)\n",
    "\n",
    "# Change the type of the submittion date column to datetime\n",
    "df_us_covid['submission_date'] = pd.to_datetime(df_us_covid['submission_date'])\n",
    "\n",
    "# Replace NaN with numeric values in the dataframe\n",
    "df_us_covid.fillna(value = 0, axis = 1, inplace = True)\n",
    "\n",
    "df_us_covid.head()"
   ]
  },
  {
   "cell_type": "code",
   "execution_count": 60,
   "id": "eca821f3",
   "metadata": {},
   "outputs": [
    {
     "data": {
      "text/html": [
       "<div>\n",
       "<style scoped>\n",
       "    .dataframe tbody tr th:only-of-type {\n",
       "        vertical-align: middle;\n",
       "    }\n",
       "\n",
       "    .dataframe tbody tr th {\n",
       "        vertical-align: top;\n",
       "    }\n",
       "\n",
       "    .dataframe thead th {\n",
       "        text-align: right;\n",
       "    }\n",
       "</style>\n",
       "<table border=\"1\" class=\"dataframe\">\n",
       "  <thead>\n",
       "    <tr style=\"text-align: right;\">\n",
       "      <th></th>\n",
       "      <th>submission_date</th>\n",
       "      <th>state</th>\n",
       "      <th>tot_cases</th>\n",
       "      <th>conf_cases</th>\n",
       "      <th>prob_cases</th>\n",
       "      <th>new_case</th>\n",
       "      <th>tot_death</th>\n",
       "      <th>conf_death</th>\n",
       "      <th>prob_death</th>\n",
       "      <th>new_death</th>\n",
       "    </tr>\n",
       "  </thead>\n",
       "  <tbody>\n",
       "    <tr>\n",
       "      <th>0</th>\n",
       "      <td>2020-01-22</td>\n",
       "      <td>AK</td>\n",
       "      <td>0</td>\n",
       "      <td>0.0</td>\n",
       "      <td>0.0</td>\n",
       "      <td>0</td>\n",
       "      <td>0</td>\n",
       "      <td>0.0</td>\n",
       "      <td>0.0</td>\n",
       "      <td>0</td>\n",
       "    </tr>\n",
       "    <tr>\n",
       "      <th>1</th>\n",
       "      <td>2020-01-22</td>\n",
       "      <td>AL</td>\n",
       "      <td>0</td>\n",
       "      <td>0.0</td>\n",
       "      <td>0.0</td>\n",
       "      <td>0</td>\n",
       "      <td>0</td>\n",
       "      <td>0.0</td>\n",
       "      <td>0.0</td>\n",
       "      <td>0</td>\n",
       "    </tr>\n",
       "    <tr>\n",
       "      <th>2</th>\n",
       "      <td>2020-01-22</td>\n",
       "      <td>AR</td>\n",
       "      <td>0</td>\n",
       "      <td>0.0</td>\n",
       "      <td>0.0</td>\n",
       "      <td>0</td>\n",
       "      <td>0</td>\n",
       "      <td>0.0</td>\n",
       "      <td>0.0</td>\n",
       "      <td>0</td>\n",
       "    </tr>\n",
       "    <tr>\n",
       "      <th>3</th>\n",
       "      <td>2020-01-22</td>\n",
       "      <td>AZ</td>\n",
       "      <td>0</td>\n",
       "      <td>0.0</td>\n",
       "      <td>0.0</td>\n",
       "      <td>0</td>\n",
       "      <td>0</td>\n",
       "      <td>0.0</td>\n",
       "      <td>0.0</td>\n",
       "      <td>0</td>\n",
       "    </tr>\n",
       "    <tr>\n",
       "      <th>4</th>\n",
       "      <td>2020-01-22</td>\n",
       "      <td>CA</td>\n",
       "      <td>0</td>\n",
       "      <td>0.0</td>\n",
       "      <td>0.0</td>\n",
       "      <td>0</td>\n",
       "      <td>0</td>\n",
       "      <td>0.0</td>\n",
       "      <td>0.0</td>\n",
       "      <td>0</td>\n",
       "    </tr>\n",
       "  </tbody>\n",
       "</table>\n",
       "</div>"
      ],
      "text/plain": [
       "  submission_date state  tot_cases  conf_cases  prob_cases  new_case  \\\n",
       "0      2020-01-22    AK          0         0.0         0.0         0   \n",
       "1      2020-01-22    AL          0         0.0         0.0         0   \n",
       "2      2020-01-22    AR          0         0.0         0.0         0   \n",
       "3      2020-01-22    AZ          0         0.0         0.0         0   \n",
       "4      2020-01-22    CA          0         0.0         0.0         0   \n",
       "\n",
       "   tot_death  conf_death  prob_death  new_death  \n",
       "0          0         0.0         0.0          0  \n",
       "1          0         0.0         0.0          0  \n",
       "2          0         0.0         0.0          0  \n",
       "3          0         0.0         0.0          0  \n",
       "4          0         0.0         0.0          0  "
      ]
     },
     "execution_count": 60,
     "metadata": {},
     "output_type": "execute_result"
    }
   ],
   "source": [
    "# Create a new US covid dataframe with totals for each state and for each day\n",
    "df_us_covid_states = df_us_covid.groupby(['submission_date', 'state']).sum().reset_index()\n",
    "df_us_covid_states.head()"
   ]
  },
  {
   "cell_type": "markdown",
   "id": "66d5e32a",
   "metadata": {},
   "source": [
    "### Plotting US states average cases"
   ]
  },
  {
   "cell_type": "code",
   "execution_count": 61,
   "id": "743ffd45",
   "metadata": {},
   "outputs": [
    {
     "data": {
      "text/html": [
       "<div>\n",
       "<style scoped>\n",
       "    .dataframe tbody tr th:only-of-type {\n",
       "        vertical-align: middle;\n",
       "    }\n",
       "\n",
       "    .dataframe tbody tr th {\n",
       "        vertical-align: top;\n",
       "    }\n",
       "\n",
       "    .dataframe thead th {\n",
       "        text-align: right;\n",
       "    }\n",
       "</style>\n",
       "<table border=\"1\" class=\"dataframe\">\n",
       "  <thead>\n",
       "    <tr style=\"text-align: right;\">\n",
       "      <th></th>\n",
       "      <th>state</th>\n",
       "      <th>cases_avg_per_day</th>\n",
       "    </tr>\n",
       "  </thead>\n",
       "  <tbody>\n",
       "    <tr>\n",
       "      <th>45</th>\n",
       "      <td>VT</td>\n",
       "      <td>65.420975</td>\n",
       "    </tr>\n",
       "    <tr>\n",
       "      <th>10</th>\n",
       "      <td>HI</td>\n",
       "      <td>124.122600</td>\n",
       "    </tr>\n",
       "    <tr>\n",
       "      <th>49</th>\n",
       "      <td>WY</td>\n",
       "      <td>162.871492</td>\n",
       "    </tr>\n",
       "    <tr>\n",
       "      <th>20</th>\n",
       "      <td>ME</td>\n",
       "      <td>175.020679</td>\n",
       "    </tr>\n",
       "    <tr>\n",
       "      <th>0</th>\n",
       "      <td>AK</td>\n",
       "      <td>213.725258</td>\n",
       "    </tr>\n",
       "  </tbody>\n",
       "</table>\n",
       "</div>"
      ],
      "text/plain": [
       "   state  cases_avg_per_day\n",
       "45    VT          65.420975\n",
       "10    HI         124.122600\n",
       "49    WY         162.871492\n",
       "20    ME         175.020679\n",
       "0     AK         213.725258"
      ]
     },
     "execution_count": 61,
     "metadata": {},
     "output_type": "execute_result"
    }
   ],
   "source": [
    "# Plotting US states average cases\n",
    "# First create a new dataframe with averages for each state\n",
    "df_us_covid_avgcases = df_us_covid[['state','new_case']].groupby('state').mean().reset_index()\n",
    "\n",
    "# Rename new_case column\n",
    "df_us_covid_avgcases.rename(columns = {'new_case':'cases_avg_per_day'}, inplace = True)\n",
    "\n",
    "# Sort the dataframe using the average\n",
    "df_us_covid_avgcases.sort_values(by = 'cases_avg_per_day', inplace = True)\n",
    "\n",
    "df_us_covid_avgcases.head()"
   ]
  },
  {
   "cell_type": "code",
   "execution_count": 62,
   "id": "3fe5946d",
   "metadata": {},
   "outputs": [
    {
     "data": {
      "text/plain": [
       "<BarContainer object of 50 artists>"
      ]
     },
     "execution_count": 62,
     "metadata": {},
     "output_type": "execute_result"
    },
    {
     "data": {
      "image/png": "[encoded data removed]",
      "text/plain": [
       "<Figure size 1080x432 with 1 Axes>"
      ]
     },
     "metadata": {
      "needs_background": "light"
     },
     "output_type": "display_data"
    }
   ],
   "source": [
    "fig = plt.figure(figsize=(15,6))\n",
    "\n",
    "# add title, xlabel to the plot\n",
    "plt.title('State Average COVID-19 Cases Per Day')\n",
    "plt.xlabel('States')\n",
    "plt.ylabel('COVID-19 Cases Per Day')\n",
    "\n",
    "# rotate state names\n",
    "plt.xticks(rotation=90)\n",
    "\n",
    "# plot\n",
    "plt.bar(map_state_name(df_us_covid_avgcases['state']), df_us_covid_avgcases['cases_avg_per_day'])"
   ]
  },
  {
   "cell_type": "code",
   "execution_count": 63,
   "id": "4e2dcae2",
   "metadata": {},
   "outputs": [
    {
     "data": {
      "application/vnd.plotly.v1+json": {
       "config": {
        "linkText": "Export to plot.ly",
        "plotlyServerURL": "https://plot.ly",
        "showLink": false
       },
       "data": [
        {
         "colorbar": {
          "title": {
           "text": "COVID-19 Avg. Cases Per Day"
          }
         },
         "colorscale": [
          [
           0,
           "rgb(247,251,255)"
          ],
          [
           0.125,
           "rgb(222,235,247)"
          ],
          [
           0.25,
           "rgb(198,219,239)"
          ],
          [
           0.375,
           "rgb(158,202,225)"
          ],
          [
           0.5,
           "rgb(107,174,214)"
          ],
          [
           0.625,
           "rgb(66,146,198)"
          ],
          [
           0.75,
           "rgb(33,113,181)"
          ],
          [
           0.875,
           "rgb(8,81,156)"
          ],
          [
           1,
           "rgb(8,48,107)"
          ]
         ],
         "locationmode": "USA-states",
         "locations": [
          "VT",
          "HI",
          "WY",
          "ME",
          "AK",
          "DE",
          "NH",
          "ND",
          "SD",
          "RI",
          "MT",
          "WV",
          "ID",
          "NE",
          "NM",
          "OR",
          "CT",
          "NV",
          "KS",
          "MS",
          "IA",
          "AR",
          "MD",
          "UT",
          "OK",
          "WA",
          "LA",
          "KY",
          "CO",
          "AL",
          "MN",
          "MO",
          "MA",
          "SC",
          "VA",
          "WI",
          "IN",
          "NJ",
          "AZ",
          "TN",
          "MI",
          "NC",
          "NY",
          "GA",
          "OH",
          "PA",
          "IL",
          "FL",
          "TX",
          "CA"
         ],
         "text": [
          "Vermont",
          "Hawaii",
          "Wyoming",
          "Maine",
          "Alaska",
          "Delaware",
          "New Hampshire",
          "North Dakota",
          "South Dakota",
          "Rhode Island",
          "Montana",
          "West Virginia",
          "Idaho",
          "Nebraska",
          "New Mexico",
          "Oregon",
          "Connecticut",
          "Nevada",
          "Kansas",
          "Mississippi",
          "Iowa",
          "Arkansas",
          "Maryland",
          "Utah",
          "Oklahoma",
          "Washington",
          "Louisiana",
          "Kentucky",
          "Colorado",
          "Alabama",
          "Minnesota",
          "Missouri",
          "Massachusetts",
          "South Carolina",
          "Virginia",
          "Wisconsin",
          "Indiana",
          "New Jersey",
          "Arizona",
          "Tennessee",
          "Michigan",
          "North Carolina",
          "New York",
          "Georgia",
          "Ohio",
          "Pennsylvania",
          "Illinois",
          "Florida",
          "Texas",
          "California"
         ],
         "type": "choropleth",
         "z": [
          65.42097488921713,
          124.12259970457903,
          162.8714918759232,
          175.02067946824224,
          213.72525849335304,
          225.5096011816839,
          230.00147710487445,
          238.2599704579025,
          242.6765140324963,
          278.52437223042836,
          280.6484490398818,
          429.70310192023635,
          451.64254062038407,
          454.794682422452,
          455.082717872969,
          572.3559822747415,
          617.903988183161,
          676.6381093057607,
          681.1861152141802,
          757.2112259970457,
          772.3161004431315,
          779.301329394387,
          862.8316100443132,
          874.6381093057607,
          979.5642540620385,
          1134.639586410635,
          1135.2836041358937,
          1152.9660265878877,
          1208.90694239291,
          1248.576070901034,
          1309.2821270310192,
          1321.03988183161,
          1341.2112259970459,
          1351.4711964549483,
          1425.2392909896603,
          1430.2673559822747,
          1601.9025110782866,
          1855.5657311669129,
          1868.3131462333827,
          1934.9054652880354,
          2137.7104874446086,
          2251.2230428360413,
          2304.788774002954,
          2451.2422451994094,
          2477.8419497784344,
          2524.2939438700146,
          2636.4844903988183,
          5450.203840472674,
          6180.223042836042,
          7178.357459379616
         ]
        }
       ],
       "layout": {
        "geo": {
         "scope": "usa"
        },
        "template": {
         "data": {
          "bar": [
           {
            "error_x": {
             "color": "#2a3f5f"
            },
            "error_y": {
             "color": "#2a3f5f"
            },
            "marker": {
             "line": {
              "color": "#E5ECF6",
              "width": 0.5
             },
             "pattern": {
              "fillmode": "overlay",
              "size": 10,
              "solidity": 0.2
             }
            },
            "type": "bar"
           }
          ],
          "barpolar": [
           {
            "marker": {
             "line": {
              "color": "#E5ECF6",
              "width": 0.5
             },
             "pattern": {
              "fillmode": "overlay",
              "size": 10,
              "solidity": 0.2
             }
            },
            "type": "barpolar"
           }
          ],
          "carpet": [
           {
            "aaxis": {
             "endlinecolor": "#2a3f5f",
             "gridcolor": "white",
             "linecolor": "white",
             "minorgridcolor": "white",
             "startlinecolor": "#2a3f5f"
            },
            "baxis": {
             "endlinecolor": "#2a3f5f",
             "gridcolor": "white",
             "linecolor": "white",
             "minorgridcolor": "white",
             "startlinecolor": "#2a3f5f"
            },
            "type": "carpet"
           }
          ],
          "choropleth": [
           {
            "colorbar": {
             "outlinewidth": 0,
             "ticks": ""
            },
            "type": "choropleth"
           }
          ],
          "contour": [
           {
            "colorbar": {
             "outlinewidth": 0,
             "ticks": ""
            },
            "colorscale": [
             [
              0,
              "#0d0887"
             ],
             [
              0.1111111111111111,
              "#46039f"
             ],
             [
              0.2222222222222222,
              "#7201a8"
             ],
             [
              0.3333333333333333,
              "#9c179e"
             ],
             [
              0.4444444444444444,
              "#bd3786"
             ],
             [
              0.5555555555555556,
              "#d8576b"
             ],
             [
              0.6666666666666666,
              "#ed7953"
             ],
             [
              0.7777777777777778,
              "#fb9f3a"
             ],
             [
              0.8888888888888888,
              "#fdca26"
             ],
             [
              1,
              "#f0f921"
             ]
            ],
            "type": "contour"
           }
          ],
          "contourcarpet": [
           {
            "colorbar": {
             "outlinewidth": 0,
             "ticks": ""
            },
            "type": "contourcarpet"
           }
          ],
          "heatmap": [
           {
            "colorbar": {
             "outlinewidth": 0,
             "ticks": ""
            },
            "colorscale": [
             [
              0,
              "#0d0887"
             ],
             [
              0.1111111111111111,
              "#46039f"
             ],
             [
              0.2222222222222222,
              "#7201a8"
             ],
             [
              0.3333333333333333,
              "#9c179e"
             ],
             [
              0.4444444444444444,
              "#bd3786"
             ],
             [
              0.5555555555555556,
              "#d8576b"
             ],
             [
              0.6666666666666666,
              "#ed7953"
             ],
             [
              0.7777777777777778,
              "#fb9f3a"
             ],
             [
              0.8888888888888888,
              "#fdca26"
             ],
             [
              1,
              "#f0f921"
             ]
            ],
            "type": "heatmap"
           }
          ],
          "heatmapgl": [
           {
            "colorbar": {
             "outlinewidth": 0,
             "ticks": ""
            },
            "colorscale": [
             [
              0,
              "#0d0887"
             ],
             [
              0.1111111111111111,
              "#46039f"
             ],
             [
              0.2222222222222222,
              "#7201a8"
             ],
             [
              0.3333333333333333,
              "#9c179e"
             ],
             [
              0.4444444444444444,
              "#bd3786"
             ],
             [
              0.5555555555555556,
              "#d8576b"
             ],
             [
              0.6666666666666666,
              "#ed7953"
             ],
             [
              0.7777777777777778,
              "#fb9f3a"
             ],
             [
              0.8888888888888888,
              "#fdca26"
             ],
             [
              1,
              "#f0f921"
             ]
            ],
            "type": "heatmapgl"
           }
          ],
          "histogram": [
           {
            "marker": {
             "pattern": {
              "fillmode": "overlay",
              "size": 10,
              "solidity": 0.2
             }
            },
            "type": "histogram"
           }
          ],
          "histogram2d": [
           {
            "colorbar": {
             "outlinewidth": 0,
             "ticks": ""
            },
            "colorscale": [
             [
              0,
              "#0d0887"
             ],
             [
              0.1111111111111111,
              "#46039f"
             ],
             [
              0.2222222222222222,
              "#7201a8"
             ],
             [
              0.3333333333333333,
              "#9c179e"
             ],
             [
              0.4444444444444444,
              "#bd3786"
             ],
             [
              0.5555555555555556,
              "#d8576b"
             ],
             [
              0.6666666666666666,
              "#ed7953"
             ],
             [
              0.7777777777777778,
              "#fb9f3a"
             ],
             [
              0.8888888888888888,
              "#fdca26"
             ],
             [
              1,
              "#f0f921"
             ]
            ],
            "type": "histogram2d"
           }
          ],
          "histogram2dcontour": [
           {
            "colorbar": {
             "outlinewidth": 0,
             "ticks": ""
            },
            "colorscale": [
             [
              0,
              "#0d0887"
             ],
             [
              0.1111111111111111,
              "#46039f"
             ],
             [
              0.2222222222222222,
              "#7201a8"
             ],
             [
              0.3333333333333333,
              "#9c179e"
             ],
             [
              0.4444444444444444,
              "#bd3786"
             ],
             [
              0.5555555555555556,
              "#d8576b"
             ],
             [
              0.6666666666666666,
              "#ed7953"
             ],
             [
              0.7777777777777778,
              "#fb9f3a"
             ],
             [
              0.8888888888888888,
              "#fdca26"
             ],
             [
              1,
              "#f0f921"
             ]
            ],
            "type": "histogram2dcontour"
           }
          ],
          "mesh3d": [
           {
            "colorbar": {
             "outlinewidth": 0,
             "ticks": ""
            },
            "type": "mesh3d"
           }
          ],
          "parcoords": [
           {
            "line": {
             "colorbar": {
              "outlinewidth": 0,
              "ticks": ""
             }
            },
            "type": "parcoords"
           }
          ],
          "pie": [
           {
            "automargin": true,
            "type": "pie"
           }
          ],
          "scatter": [
           {
            "marker": {
             "colorbar": {
              "outlinewidth": 0,
              "ticks": ""
             }
            },
            "type": "scatter"
           }
          ],
          "scatter3d": [
           {
            "line": {
             "colorbar": {
              "outlinewidth": 0,
              "ticks": ""
             }
            },
            "marker": {
             "colorbar": {
              "outlinewidth": 0,
              "ticks": ""
             }
            },
            "type": "scatter3d"
           }
          ],
          "scattercarpet": [
           {
            "marker": {
             "colorbar": {
              "outlinewidth": 0,
              "ticks": ""
             }
            },
            "type": "scattercarpet"
           }
          ],
          "scattergeo": [
           {
            "marker": {
             "colorbar": {
              "outlinewidth": 0,
              "ticks": ""
             }
            },
            "type": "scattergeo"
           }
          ],
          "scattergl": [
           {
            "marker": {
             "colorbar": {
              "outlinewidth": 0,
              "ticks": ""
             }
            },
            "type": "scattergl"
           }
          ],
          "scattermapbox": [
           {
            "marker": {
             "colorbar": {
              "outlinewidth": 0,
              "ticks": ""
             }
            },
            "type": "scattermapbox"
           }
          ],
          "scatterpolar": [
           {
            "marker": {
             "colorbar": {
              "outlinewidth": 0,
              "ticks": ""
             }
            },
            "type": "scatterpolar"
           }
          ],
          "scatterpolargl": [
           {
            "marker": {
             "colorbar": {
              "outlinewidth": 0,
              "ticks": ""
             }
            },
            "type": "scatterpolargl"
           }
          ],
          "scatterternary": [
           {
            "marker": {
             "colorbar": {
              "outlinewidth": 0,
              "ticks": ""
             }
            },
            "type": "scatterternary"
           }
          ],
          "surface": [
           {
            "colorbar": {
             "outlinewidth": 0,
             "ticks": ""
            },
            "colorscale": [
             [
              0,
              "#0d0887"
             ],
             [
              0.1111111111111111,
              "#46039f"
             ],
             [
              0.2222222222222222,
              "#7201a8"
             ],
             [
              0.3333333333333333,
              "#9c179e"
             ],
             [
              0.4444444444444444,
              "#bd3786"
             ],
             [
              0.5555555555555556,
              "#d8576b"
             ],
             [
              0.6666666666666666,
              "#ed7953"
             ],
             [
              0.7777777777777778,
              "#fb9f3a"
             ],
             [
              0.8888888888888888,
              "#fdca26"
             ],
             [
              1,
              "#f0f921"
             ]
            ],
            "type": "surface"
           }
          ],
          "table": [
           {
            "cells": {
             "fill": {
              "color": "#EBF0F8"
             },
             "line": {
              "color": "white"
             }
            },
            "header": {
             "fill": {
              "color": "#C8D4E3"
             },
             "line": {
              "color": "white"
             }
            },
            "type": "table"
           }
          ]
         },
         "layout": {
          "annotationdefaults": {
           "arrowcolor": "#2a3f5f",
           "arrowhead": 0,
           "arrowwidth": 1
          },
          "autotypenumbers": "strict",
          "coloraxis": {
           "colorbar": {
            "outlinewidth": 0,
            "ticks": ""
           }
          },
          "colorscale": {
           "diverging": [
            [
             0,
             "#8e0152"
            ],
            [
             0.1,
             "#c51b7d"
            ],
            [
             0.2,
             "#de77ae"
            ],
            [
             0.3,
             "#f1b6da"
            ],
            [
             0.4,
             "#fde0ef"
            ],
            [
             0.5,
             "#f7f7f7"
            ],
            [
             0.6,
             "#e6f5d0"
            ],
            [
             0.7,
             "#b8e186"
            ],
            [
             0.8,
             "#7fbc41"
            ],
            [
             0.9,
             "#4d9221"
            ],
            [
             1,
             "#276419"
            ]
           ],
           "sequential": [
            [
             0,
             "#0d0887"
            ],
            [
             0.1111111111111111,
             "#46039f"
            ],
            [
             0.2222222222222222,
             "#7201a8"
            ],
            [
             0.3333333333333333,
             "#9c179e"
            ],
            [
             0.4444444444444444,
             "#bd3786"
            ],
            [
             0.5555555555555556,
             "#d8576b"
            ],
            [
             0.6666666666666666,
             "#ed7953"
            ],
            [
             0.7777777777777778,
             "#fb9f3a"
            ],
            [
             0.8888888888888888,
             "#fdca26"
            ],
            [
             1,
             "#f0f921"
            ]
           ],
           "sequentialminus": [
            [
             0,
             "#0d0887"
            ],
            [
             0.1111111111111111,
             "#46039f"
            ],
            [
             0.2222222222222222,
             "#7201a8"
            ],
            [
             0.3333333333333333,
             "#9c179e"
            ],
            [
             0.4444444444444444,
             "#bd3786"
            ],
            [
             0.5555555555555556,
             "#d8576b"
            ],
            [
             0.6666666666666666,
             "#ed7953"
            ],
            [
             0.7777777777777778,
             "#fb9f3a"
            ],
            [
             0.8888888888888888,
             "#fdca26"
            ],
            [
             1,
             "#f0f921"
            ]
           ]
          },
          "colorway": [
           "#636efa",
           "#EF553B",
           "#00cc96",
           "#ab63fa",
           "#FFA15A",
           "#19d3f3",
           "#FF6692",
           "#B6E880",
           "#FF97FF",
           "#FECB52"
          ],
          "font": {
           "color": "#2a3f5f"
          },
          "geo": {
           "bgcolor": "white",
           "lakecolor": "white",
           "landcolor": "#E5ECF6",
           "showlakes": true,
           "showland": true,
           "subunitcolor": "white"
          },
          "hoverlabel": {
           "align": "left"
          },
          "hovermode": "closest",
          "mapbox": {
           "style": "light"
          },
          "paper_bgcolor": "white",
          "plot_bgcolor": "#E5ECF6",
          "polar": {
           "angularaxis": {
            "gridcolor": "white",
            "linecolor": "white",
            "ticks": ""
           },
           "bgcolor": "#E5ECF6",
           "radialaxis": {
            "gridcolor": "white",
            "linecolor": "white",
            "ticks": ""
           }
          },
          "scene": {
           "xaxis": {
            "backgroundcolor": "#E5ECF6",
            "gridcolor": "white",
            "gridwidth": 2,
            "linecolor": "white",
            "showbackground": true,
            "ticks": "",
            "zerolinecolor": "white"
           },
           "yaxis": {
            "backgroundcolor": "#E5ECF6",
            "gridcolor": "white",
            "gridwidth": 2,
            "linecolor": "white",
            "showbackground": true,
            "ticks": "",
            "zerolinecolor": "white"
           },
           "zaxis": {
            "backgroundcolor": "#E5ECF6",
            "gridcolor": "white",
            "gridwidth": 2,
            "linecolor": "white",
            "showbackground": true,
            "ticks": "",
            "zerolinecolor": "white"
           }
          },
          "shapedefaults": {
           "line": {
            "color": "#2a3f5f"
           }
          },
          "ternary": {
           "aaxis": {
            "gridcolor": "white",
            "linecolor": "white",
            "ticks": ""
           },
           "baxis": {
            "gridcolor": "white",
            "linecolor": "white",
            "ticks": ""
           },
           "bgcolor": "#E5ECF6",
           "caxis": {
            "gridcolor": "white",
            "linecolor": "white",
            "ticks": ""
           }
          },
          "title": {
           "x": 0.05
          },
          "xaxis": {
           "automargin": true,
           "gridcolor": "white",
           "linecolor": "white",
           "ticks": "",
           "title": {
            "standoff": 15
           },
           "zerolinecolor": "white",
           "zerolinewidth": 2
          },
          "yaxis": {
           "automargin": true,
           "gridcolor": "white",
           "linecolor": "white",
           "ticks": "",
           "title": {
            "standoff": 15
           },
           "zerolinecolor": "white",
           "zerolinewidth": 2
          }
         }
        }
       }
      },
      "text/html": [
       "<div>                            <div id=\"80fdc5c2-6589-4680-bad7-c6d050c4d697\" class=\"plotly-graph-div\" style=\"height:525px; width:100%;\"></div>            <script type=\"text/javascript\">                require([\"plotly\"], function(Plotly) {                    window.PLOTLYENV=window.PLOTLYENV || {};                                    if (document.getElementById(\"80fdc5c2-6589-4680-bad7-c6d050c4d697\")) {                    Plotly.newPlot(                        \"80fdc5c2-6589-4680-bad7-c6d050c4d697\",                        [{\"colorbar\":{\"title\":{\"text\":\"COVID-19 Avg. Cases Per Day\"}},\"colorscale\":[[0.0,\"rgb(247,251,255)\"],[0.125,\"rgb(222,235,247)\"],[0.25,\"rgb(198,219,239)\"],[0.375,\"rgb(158,202,225)\"],[0.5,\"rgb(107,174,214)\"],[0.625,\"rgb(66,146,198)\"],[0.75,\"rgb(33,113,181)\"],[0.875,\"rgb(8,81,156)\"],[1.0,\"rgb(8,48,107)\"]],\"locationmode\":\"USA-states\",\"locations\":[\"VT\",\"HI\",\"WY\",\"ME\",\"AK\",\"DE\",\"NH\",\"ND\",\"SD\",\"RI\",\"MT\",\"WV\",\"ID\",\"NE\",\"NM\",\"OR\",\"CT\",\"NV\",\"KS\",\"MS\",\"IA\",\"AR\",\"MD\",\"UT\",\"OK\",\"WA\",\"LA\",\"KY\",\"CO\",\"AL\",\"MN\",\"MO\",\"MA\",\"SC\",\"VA\",\"WI\",\"IN\",\"NJ\",\"AZ\",\"TN\",\"MI\",\"NC\",\"NY\",\"GA\",\"OH\",\"PA\",\"IL\",\"FL\",\"TX\",\"CA\"],\"text\":[\"Vermont\",\"Hawaii\",\"Wyoming\",\"Maine\",\"Alaska\",\"Delaware\",\"New Hampshire\",\"North Dakota\",\"South Dakota\",\"Rhode Island\",\"Montana\",\"West Virginia\",\"Idaho\",\"Nebraska\",\"New Mexico\",\"Oregon\",\"Connecticut\",\"Nevada\",\"Kansas\",\"Mississippi\",\"Iowa\",\"Arkansas\",\"Maryland\",\"Utah\",\"Oklahoma\",\"Washington\",\"Louisiana\",\"Kentucky\",\"Colorado\",\"Alabama\",\"Minnesota\",\"Missouri\",\"Massachusetts\",\"South Carolina\",\"Virginia\",\"Wisconsin\",\"Indiana\",\"New Jersey\",\"Arizona\",\"Tennessee\",\"Michigan\",\"North Carolina\",\"New York\",\"Georgia\",\"Ohio\",\"Pennsylvania\",\"Illinois\",\"Florida\",\"Texas\",\"California\"],\"type\":\"choropleth\",\"z\":[65.42097488921713,124.12259970457903,162.8714918759232,175.02067946824224,213.72525849335304,225.5096011816839,230.00147710487445,238.2599704579025,242.6765140324963,278.52437223042836,280.6484490398818,429.70310192023635,451.64254062038407,454.794682422452,455.082717872969,572.3559822747415,617.903988183161,676.6381093057607,681.1861152141802,757.2112259970457,772.3161004431315,779.301329394387,862.8316100443132,874.6381093057607,979.5642540620385,1134.639586410635,1135.2836041358937,1152.9660265878877,1208.90694239291,1248.576070901034,1309.2821270310192,1321.03988183161,1341.2112259970459,1351.4711964549483,1425.2392909896603,1430.2673559822747,1601.9025110782866,1855.5657311669129,1868.3131462333827,1934.9054652880354,2137.7104874446086,2251.2230428360413,2304.788774002954,2451.2422451994094,2477.8419497784344,2524.2939438700146,2636.4844903988183,5450.203840472674,6180.223042836042,7178.357459379616]}],                        {\"geo\":{\"scope\":\"usa\"},\"template\":{\"data\":{\"bar\":[{\"error_x\":{\"color\":\"#2a3f5f\"},\"error_y\":{\"color\":\"#2a3f5f\"},\"marker\":{\"line\":{\"color\":\"#E5ECF6\",\"width\":0.5},\"pattern\":{\"fillmode\":\"overlay\",\"size\":10,\"solidity\":0.2}},\"type\":\"bar\"}],\"barpolar\":[{\"marker\":{\"line\":{\"color\":\"#E5ECF6\",\"width\":0.5},\"pattern\":{\"fillmode\":\"overlay\",\"size\":10,\"solidity\":0.2}},\"type\":\"barpolar\"}],\"carpet\":[{\"aaxis\":{\"endlinecolor\":\"#2a3f5f\",\"gridcolor\":\"white\",\"linecolor\":\"white\",\"minorgridcolor\":\"white\",\"startlinecolor\":\"#2a3f5f\"},\"baxis\":{\"endlinecolor\":\"#2a3f5f\",\"gridcolor\":\"white\",\"linecolor\":\"white\",\"minorgridcolor\":\"white\",\"startlinecolor\":\"#2a3f5f\"},\"type\":\"carpet\"}],\"choropleth\":[{\"colorbar\":{\"outlinewidth\":0,\"ticks\":\"\"},\"type\":\"choropleth\"}],\"contour\":[{\"colorbar\":{\"outlinewidth\":0,\"ticks\":\"\"},\"colorscale\":[[0.0,\"#0d0887\"],[0.1111111111111111,\"#46039f\"],[0.2222222222222222,\"#7201a8\"],[0.3333333333333333,\"#9c179e\"],[0.4444444444444444,\"#bd3786\"],[0.5555555555555556,\"#d8576b\"],[0.6666666666666666,\"#ed7953\"],[0.7777777777777778,\"#fb9f3a\"],[0.8888888888888888,\"#fdca26\"],[1.0,\"#f0f921\"]],\"type\":\"contour\"}],\"contourcarpet\":[{\"colorbar\":{\"outlinewidth\":0,\"ticks\":\"\"},\"type\":\"contourcarpet\"}],\"heatmap\":[{\"colorbar\":{\"outlinewidth\":0,\"ticks\":\"\"},\"colorscale\":[[0.0,\"#0d0887\"],[0.1111111111111111,\"#46039f\"],[0.2222222222222222,\"#7201a8\"],[0.3333333333333333,\"#9c179e\"],[0.4444444444444444,\"#bd3786\"],[0.5555555555555556,\"#d8576b\"],[0.6666666666666666,\"#ed7953\"],[0.7777777777777778,\"#fb9f3a\"],[0.8888888888888888,\"#fdca26\"],[1.0,\"#f0f921\"]],\"type\":\"heatmap\"}],\"heatmapgl\":[{\"colorbar\":{\"outlinewidth\":0,\"ticks\":\"\"},\"colorscale\":[[0.0,\"#0d0887\"],[0.1111111111111111,\"#46039f\"],[0.2222222222222222,\"#7201a8\"],[0.3333333333333333,\"#9c179e\"],[0.4444444444444444,\"#bd3786\"],[0.5555555555555556,\"#d8576b\"],[0.6666666666666666,\"#ed7953\"],[0.7777777777777778,\"#fb9f3a\"],[0.8888888888888888,\"#fdca26\"],[1.0,\"#f0f921\"]],\"type\":\"heatmapgl\"}],\"histogram\":[{\"marker\":{\"pattern\":{\"fillmode\":\"overlay\",\"size\":10,\"solidity\":0.2}},\"type\":\"histogram\"}],\"histogram2d\":[{\"colorbar\":{\"outlinewidth\":0,\"ticks\":\"\"},\"colorscale\":[[0.0,\"#0d0887\"],[0.1111111111111111,\"#46039f\"],[0.2222222222222222,\"#7201a8\"],[0.3333333333333333,\"#9c179e\"],[0.4444444444444444,\"#bd3786\"],[0.5555555555555556,\"#d8576b\"],[0.6666666666666666,\"#ed7953\"],[0.7777777777777778,\"#fb9f3a\"],[0.8888888888888888,\"#fdca26\"],[1.0,\"#f0f921\"]],\"type\":\"histogram2d\"}],\"histogram2dcontour\":[{\"colorbar\":{\"outlinewidth\":0,\"ticks\":\"\"},\"colorscale\":[[0.0,\"#0d0887\"],[0.1111111111111111,\"#46039f\"],[0.2222222222222222,\"#7201a8\"],[0.3333333333333333,\"#9c179e\"],[0.4444444444444444,\"#bd3786\"],[0.5555555555555556,\"#d8576b\"],[0.6666666666666666,\"#ed7953\"],[0.7777777777777778,\"#fb9f3a\"],[0.8888888888888888,\"#fdca26\"],[1.0,\"#f0f921\"]],\"type\":\"histogram2dcontour\"}],\"mesh3d\":[{\"colorbar\":{\"outlinewidth\":0,\"ticks\":\"\"},\"type\":\"mesh3d\"}],\"parcoords\":[{\"line\":{\"colorbar\":{\"outlinewidth\":0,\"ticks\":\"\"}},\"type\":\"parcoords\"}],\"pie\":[{\"automargin\":true,\"type\":\"pie\"}],\"scatter\":[{\"marker\":{\"colorbar\":{\"outlinewidth\":0,\"ticks\":\"\"}},\"type\":\"scatter\"}],\"scatter3d\":[{\"line\":{\"colorbar\":{\"outlinewidth\":0,\"ticks\":\"\"}},\"marker\":{\"colorbar\":{\"outlinewidth\":0,\"ticks\":\"\"}},\"type\":\"scatter3d\"}],\"scattercarpet\":[{\"marker\":{\"colorbar\":{\"outlinewidth\":0,\"ticks\":\"\"}},\"type\":\"scattercarpet\"}],\"scattergeo\":[{\"marker\":{\"colorbar\":{\"outlinewidth\":0,\"ticks\":\"\"}},\"type\":\"scattergeo\"}],\"scattergl\":[{\"marker\":{\"colorbar\":{\"outlinewidth\":0,\"ticks\":\"\"}},\"type\":\"scattergl\"}],\"scattermapbox\":[{\"marker\":{\"colorbar\":{\"outlinewidth\":0,\"ticks\":\"\"}},\"type\":\"scattermapbox\"}],\"scatterpolar\":[{\"marker\":{\"colorbar\":{\"outlinewidth\":0,\"ticks\":\"\"}},\"type\":\"scatterpolar\"}],\"scatterpolargl\":[{\"marker\":{\"colorbar\":{\"outlinewidth\":0,\"ticks\":\"\"}},\"type\":\"scatterpolargl\"}],\"scatterternary\":[{\"marker\":{\"colorbar\":{\"outlinewidth\":0,\"ticks\":\"\"}},\"type\":\"scatterternary\"}],\"surface\":[{\"colorbar\":{\"outlinewidth\":0,\"ticks\":\"\"},\"colorscale\":[[0.0,\"#0d0887\"],[0.1111111111111111,\"#46039f\"],[0.2222222222222222,\"#7201a8\"],[0.3333333333333333,\"#9c179e\"],[0.4444444444444444,\"#bd3786\"],[0.5555555555555556,\"#d8576b\"],[0.6666666666666666,\"#ed7953\"],[0.7777777777777778,\"#fb9f3a\"],[0.8888888888888888,\"#fdca26\"],[1.0,\"#f0f921\"]],\"type\":\"surface\"}],\"table\":[{\"cells\":{\"fill\":{\"color\":\"#EBF0F8\"},\"line\":{\"color\":\"white\"}},\"header\":{\"fill\":{\"color\":\"#C8D4E3\"},\"line\":{\"color\":\"white\"}},\"type\":\"table\"}]},\"layout\":{\"annotationdefaults\":{\"arrowcolor\":\"#2a3f5f\",\"arrowhead\":0,\"arrowwidth\":1},\"autotypenumbers\":\"strict\",\"coloraxis\":{\"colorbar\":{\"outlinewidth\":0,\"ticks\":\"\"}},\"colorscale\":{\"diverging\":[[0,\"#8e0152\"],[0.1,\"#c51b7d\"],[0.2,\"#de77ae\"],[0.3,\"#f1b6da\"],[0.4,\"#fde0ef\"],[0.5,\"#f7f7f7\"],[0.6,\"#e6f5d0\"],[0.7,\"#b8e186\"],[0.8,\"#7fbc41\"],[0.9,\"#4d9221\"],[1,\"#276419\"]],\"sequential\":[[0.0,\"#0d0887\"],[0.1111111111111111,\"#46039f\"],[0.2222222222222222,\"#7201a8\"],[0.3333333333333333,\"#9c179e\"],[0.4444444444444444,\"#bd3786\"],[0.5555555555555556,\"#d8576b\"],[0.6666666666666666,\"#ed7953\"],[0.7777777777777778,\"#fb9f3a\"],[0.8888888888888888,\"#fdca26\"],[1.0,\"#f0f921\"]],\"sequentialminus\":[[0.0,\"#0d0887\"],[0.1111111111111111,\"#46039f\"],[0.2222222222222222,\"#7201a8\"],[0.3333333333333333,\"#9c179e\"],[0.4444444444444444,\"#bd3786\"],[0.5555555555555556,\"#d8576b\"],[0.6666666666666666,\"#ed7953\"],[0.7777777777777778,\"#fb9f3a\"],[0.8888888888888888,\"#fdca26\"],[1.0,\"#f0f921\"]]},\"colorway\":[\"#636efa\",\"#EF553B\",\"#00cc96\",\"#ab63fa\",\"#FFA15A\",\"#19d3f3\",\"#FF6692\",\"#B6E880\",\"#FF97FF\",\"#FECB52\"],\"font\":{\"color\":\"#2a3f5f\"},\"geo\":{\"bgcolor\":\"white\",\"lakecolor\":\"white\",\"landcolor\":\"#E5ECF6\",\"showlakes\":true,\"showland\":true,\"subunitcolor\":\"white\"},\"hoverlabel\":{\"align\":\"left\"},\"hovermode\":\"closest\",\"mapbox\":{\"style\":\"light\"},\"paper_bgcolor\":\"white\",\"plot_bgcolor\":\"#E5ECF6\",\"polar\":{\"angularaxis\":{\"gridcolor\":\"white\",\"linecolor\":\"white\",\"ticks\":\"\"},\"bgcolor\":\"#E5ECF6\",\"radialaxis\":{\"gridcolor\":\"white\",\"linecolor\":\"white\",\"ticks\":\"\"}},\"scene\":{\"xaxis\":{\"backgroundcolor\":\"#E5ECF6\",\"gridcolor\":\"white\",\"gridwidth\":2,\"linecolor\":\"white\",\"showbackground\":true,\"ticks\":\"\",\"zerolinecolor\":\"white\"},\"yaxis\":{\"backgroundcolor\":\"#E5ECF6\",\"gridcolor\":\"white\",\"gridwidth\":2,\"linecolor\":\"white\",\"showbackground\":true,\"ticks\":\"\",\"zerolinecolor\":\"white\"},\"zaxis\":{\"backgroundcolor\":\"#E5ECF6\",\"gridcolor\":\"white\",\"gridwidth\":2,\"linecolor\":\"white\",\"showbackground\":true,\"ticks\":\"\",\"zerolinecolor\":\"white\"}},\"shapedefaults\":{\"line\":{\"color\":\"#2a3f5f\"}},\"ternary\":{\"aaxis\":{\"gridcolor\":\"white\",\"linecolor\":\"white\",\"ticks\":\"\"},\"baxis\":{\"gridcolor\":\"white\",\"linecolor\":\"white\",\"ticks\":\"\"},\"bgcolor\":\"#E5ECF6\",\"caxis\":{\"gridcolor\":\"white\",\"linecolor\":\"white\",\"ticks\":\"\"}},\"title\":{\"x\":0.05},\"xaxis\":{\"automargin\":true,\"gridcolor\":\"white\",\"linecolor\":\"white\",\"ticks\":\"\",\"title\":{\"standoff\":15},\"zerolinecolor\":\"white\",\"zerolinewidth\":2},\"yaxis\":{\"automargin\":true,\"gridcolor\":\"white\",\"linecolor\":\"white\",\"ticks\":\"\",\"title\":{\"standoff\":15},\"zerolinecolor\":\"white\",\"zerolinewidth\":2}}}},                        {\"responsive\": true}                    ).then(function(){\n",
       "                            \n",
       "var gd = document.getElementById('80fdc5c2-6589-4680-bad7-c6d050c4d697');\n",
       "var x = new MutationObserver(function (mutations, observer) {{\n",
       "        var display = window.getComputedStyle(gd).display;\n",
       "        if (!display || display === 'none') {{\n",
       "            console.log([gd, 'removed!']);\n",
       "            Plotly.purge(gd);\n",
       "            observer.disconnect();\n",
       "        }}\n",
       "}});\n",
       "\n",
       "// Listen for the removal of the full notebook cells\n",
       "var notebookContainer = gd.closest('#notebook-container');\n",
       "if (notebookContainer) {{\n",
       "    x.observe(notebookContainer, {childList: true});\n",
       "}}\n",
       "\n",
       "// Listen for the clearing of the current output cell\n",
       "var outputEl = gd.closest('.output');\n",
       "if (outputEl) {{\n",
       "    x.observe(outputEl, {childList: true});\n",
       "}}\n",
       "\n",
       "                        })                };                });            </script>        </div>"
      ]
     },
     "metadata": {},
     "output_type": "display_data"
    }
   ],
   "source": [
    "data = dict(type = 'choropleth',\n",
    "            locations = df_us_covid_avgcases['state'],\n",
    "            locationmode = 'USA-states',\n",
    "            text = map_state_name(df_us_covid_avgcases['state']),\n",
    "            z = df_us_covid_avgcases['cases_avg_per_day'],\n",
    "            colorscale = 'Blues',\n",
    "            colorbar = {'title':'COVID-19 Avg. Cases Per Day'})\n",
    "\n",
    "layout = dict(geo = {'scope':'usa'})\n",
    "\n",
    "choromap = go.Figure(data = [data], layout = layout)\n",
    "\n",
    "iplot(choromap)"
   ]
  },
  {
   "cell_type": "markdown",
   "id": "d2509119",
   "metadata": {},
   "source": [
    "### Plotting US states average deaths"
   ]
  },
  {
   "cell_type": "code",
   "execution_count": 64,
   "id": "c74ab533",
   "metadata": {},
   "outputs": [
    {
     "data": {
      "text/html": [
       "<div>\n",
       "<style scoped>\n",
       "    .dataframe tbody tr th:only-of-type {\n",
       "        vertical-align: middle;\n",
       "    }\n",
       "\n",
       "    .dataframe tbody tr th {\n",
       "        vertical-align: top;\n",
       "    }\n",
       "\n",
       "    .dataframe thead th {\n",
       "        text-align: right;\n",
       "    }\n",
       "</style>\n",
       "<table border=\"1\" class=\"dataframe\">\n",
       "  <thead>\n",
       "    <tr style=\"text-align: right;\">\n",
       "      <th></th>\n",
       "      <th>state</th>\n",
       "      <th>death_avg_per_day</th>\n",
       "    </tr>\n",
       "  </thead>\n",
       "  <tbody>\n",
       "    <tr>\n",
       "      <th>45</th>\n",
       "      <td>VT</td>\n",
       "      <td>0.573117</td>\n",
       "    </tr>\n",
       "    <tr>\n",
       "      <th>0</th>\n",
       "      <td>AK</td>\n",
       "      <td>1.251108</td>\n",
       "    </tr>\n",
       "    <tr>\n",
       "      <th>10</th>\n",
       "      <td>HI</td>\n",
       "      <td>1.487445</td>\n",
       "    </tr>\n",
       "    <tr>\n",
       "      <th>20</th>\n",
       "      <td>ME</td>\n",
       "      <td>1.924668</td>\n",
       "    </tr>\n",
       "    <tr>\n",
       "      <th>49</th>\n",
       "      <td>WY</td>\n",
       "      <td>1.989660</td>\n",
       "    </tr>\n",
       "  </tbody>\n",
       "</table>\n",
       "</div>"
      ],
      "text/plain": [
       "   state  death_avg_per_day\n",
       "45    VT           0.573117\n",
       "0     AK           1.251108\n",
       "10    HI           1.487445\n",
       "20    ME           1.924668\n",
       "49    WY           1.989660"
      ]
     },
     "execution_count": 64,
     "metadata": {},
     "output_type": "execute_result"
    }
   ],
   "source": [
    "# Plotting US states average deaths\n",
    "# First create a new dataframe with averages for each state\n",
    "df_us_covid_avgdeath = df_us_covid[['state','new_death']].groupby('state').mean().reset_index()\n",
    "\n",
    "# Rename new_case column\n",
    "df_us_covid_avgdeath.rename(columns = {'new_death':'death_avg_per_day'}, inplace = True)\n",
    "\n",
    "# Sort the dataframe using the average\n",
    "df_us_covid_avgdeath.sort_values(by = 'death_avg_per_day', inplace = True)\n",
    "\n",
    "df_us_covid_avgdeath.head()"
   ]
  },
  {
   "cell_type": "code",
   "execution_count": 65,
   "id": "a284d307",
   "metadata": {},
   "outputs": [
    {
     "data": {
      "text/plain": [
       "<BarContainer object of 50 artists>"
      ]
     },
     "execution_count": 65,
     "metadata": {},
     "output_type": "execute_result"
    },
    {
     "data": {
      "image/png": "[encoded data removed]",
      "text/plain": [
       "<Figure size 1080x432 with 1 Axes>"
      ]
     },
     "metadata": {
      "needs_background": "light"
     },
     "output_type": "display_data"
    }
   ],
   "source": [
    "fig = plt.figure(figsize=(15,6))\n",
    "\n",
    "# add title, xlabel to the plot\n",
    "plt.title('State Average COVID-19 Deaths Per Day')\n",
    "plt.xlabel('States')\n",
    "plt.ylabel('COVID-19 Deaths Per Day')\n",
    "\n",
    "# rotate state names\n",
    "plt.xticks(rotation=90)\n",
    "\n",
    "# plot\n",
    "plt.bar(map_state_name(df_us_covid_avgdeath['state']), df_us_covid_avgdeath['death_avg_per_day'])"
   ]
  },
  {
   "cell_type": "code",
   "execution_count": 66,
   "id": "ed4c0150",
   "metadata": {},
   "outputs": [
    {
     "data": {
      "application/vnd.plotly.v1+json": {
       "config": {
        "linkText": "Export to plot.ly",
        "plotlyServerURL": "https://plot.ly",
        "showLink": false
       },
       "data": [
        {
         "colorbar": {
          "title": {
           "text": "COVID-19 Deaths Per Day"
          }
         },
         "colorscale": [
          [
           0,
           "rgb(247,251,255)"
          ],
          [
           0.125,
           "rgb(222,235,247)"
          ],
          [
           0.25,
           "rgb(198,219,239)"
          ],
          [
           0.375,
           "rgb(158,202,225)"
          ],
          [
           0.5,
           "rgb(107,174,214)"
          ],
          [
           0.625,
           "rgb(66,146,198)"
          ],
          [
           0.75,
           "rgb(33,113,181)"
          ],
          [
           0.875,
           "rgb(8,81,156)"
          ],
          [
           1,
           "rgb(8,48,107)"
          ]
         ],
         "locationmode": "USA-states",
         "locations": [
          "VT",
          "AK",
          "HI",
          "ME",
          "WY",
          "NH",
          "ND",
          "DE",
          "SD",
          "MT",
          "NE",
          "RI",
          "UT",
          "ID",
          "WV",
          "NM",
          "OR",
          "KS",
          "IA",
          "NV",
          "AR",
          "CT",
          "CO",
          "MS",
          "WA",
          "MN",
          "WI",
          "OK",
          "KY",
          "MD",
          "MO",
          "SC",
          "VA",
          "LA",
          "AL",
          "TN",
          "IN",
          "NC",
          "MA",
          "AZ",
          "NY",
          "OH",
          "MI",
          "NJ",
          "IL",
          "GA",
          "PA",
          "FL",
          "TX",
          "CA"
         ],
         "text": [
          "Vermont",
          "Alaska",
          "Hawaii",
          "Maine",
          "Wyoming",
          "New Hampshire",
          "North Dakota",
          "Delaware",
          "South Dakota",
          "Montana",
          "Nebraska",
          "Rhode Island",
          "Utah",
          "Idaho",
          "West Virginia",
          "New Mexico",
          "Oregon",
          "Kansas",
          "Iowa",
          "Nevada",
          "Arkansas",
          "Connecticut",
          "Colorado",
          "Mississippi",
          "Washington",
          "Minnesota",
          "Wisconsin",
          "Oklahoma",
          "Kentucky",
          "Maryland",
          "Missouri",
          "South Carolina",
          "Virginia",
          "Louisiana",
          "Alabama",
          "Tennessee",
          "Indiana",
          "North Carolina",
          "Massachusetts",
          "Arizona",
          "New York",
          "Ohio",
          "Michigan",
          "New Jersey",
          "Illinois",
          "Georgia",
          "Pennsylvania",
          "Florida",
          "Texas",
          "California"
         ],
         "type": "choropleth",
         "z": [
          0.5731166912850812,
          1.2511078286558346,
          1.4874446085672082,
          1.9246676514032497,
          1.9896602658788773,
          2.485967503692762,
          2.772525849335303,
          3.0059084194977843,
          3.4268833087149186,
          3.847858197932053,
          4.0635155096011815,
          4.30576070901034,
          5.13589364844904,
          5.759231905465288,
          6.844903988183161,
          7.522895125553914,
          7.556868537666174,
          9.85672082717873,
          10.862629246676514,
          11.775480059084195,
          12.367799113737075,
          13.094534711964549,
          13.44165435745938,
          13.46824224519941,
          13.601181683899556,
          13.682422451994091,
          14.688330871491877,
          15.103397341211226,
          16.02954209748892,
          16.522895125553916,
          18.556868537666173,
          20.908419497784344,
          21.648449039881832,
          21.82717872968981,
          23.810930576070902,
          25.062038404726735,
          25.680945347119646,
          27.586410635155097,
          28.583456425406204,
          32.83456425406204,
          33.19350073855244,
          33.55982274741507,
          34.4903988183161,
          39.16543574593796,
          43.21713441654357,
          44.15361890694239,
          49.16248153618907,
          90.89807976366322,
          106.91432791728212,
          108.36779911373708
         ]
        }
       ],
       "layout": {
        "geo": {
         "scope": "usa"
        },
        "template": {
         "data": {
          "bar": [
           {
            "error_x": {
             "color": "#2a3f5f"
            },
            "error_y": {
             "color": "#2a3f5f"
            },
            "marker": {
             "line": {
              "color": "#E5ECF6",
              "width": 0.5
             },
             "pattern": {
              "fillmode": "overlay",
              "size": 10,
              "solidity": 0.2
             }
            },
            "type": "bar"
           }
          ],
          "barpolar": [
           {
            "marker": {
             "line": {
              "color": "#E5ECF6",
              "width": 0.5
             },
             "pattern": {
              "fillmode": "overlay",
              "size": 10,
              "solidity": 0.2
             }
            },
            "type": "barpolar"
           }
          ],
          "carpet": [
           {
            "aaxis": {
             "endlinecolor": "#2a3f5f",
             "gridcolor": "white",
             "linecolor": "white",
             "minorgridcolor": "white",
             "startlinecolor": "#2a3f5f"
            },
            "baxis": {
             "endlinecolor": "#2a3f5f",
             "gridcolor": "white",
             "linecolor": "white",
             "minorgridcolor": "white",
             "startlinecolor": "#2a3f5f"
            },
            "type": "carpet"
           }
          ],
          "choropleth": [
           {
            "colorbar": {
             "outlinewidth": 0,
             "ticks": ""
            },
            "type": "choropleth"
           }
          ],
          "contour": [
           {
            "colorbar": {
             "outlinewidth": 0,
             "ticks": ""
            },
            "colorscale": [
             [
              0,
              "#0d0887"
             ],
             [
              0.1111111111111111,
              "#46039f"
             ],
             [
              0.2222222222222222,
              "#7201a8"
             ],
             [
              0.3333333333333333,
              "#9c179e"
             ],
             [
              0.4444444444444444,
              "#bd3786"
             ],
             [
              0.5555555555555556,
              "#d8576b"
             ],
             [
              0.6666666666666666,
              "#ed7953"
             ],
             [
              0.7777777777777778,
              "#fb9f3a"
             ],
             [
              0.8888888888888888,
              "#fdca26"
             ],
             [
              1,
              "#f0f921"
             ]
            ],
            "type": "contour"
           }
          ],
          "contourcarpet": [
           {
            "colorbar": {
             "outlinewidth": 0,
             "ticks": ""
            },
            "type": "contourcarpet"
           }
          ],
          "heatmap": [
           {
            "colorbar": {
             "outlinewidth": 0,
             "ticks": ""
            },
            "colorscale": [
             [
              0,
              "#0d0887"
             ],
             [
              0.1111111111111111,
              "#46039f"
             ],
             [
              0.2222222222222222,
              "#7201a8"
             ],
             [
              0.3333333333333333,
              "#9c179e"
             ],
             [
              0.4444444444444444,
              "#bd3786"
             ],
             [
              0.5555555555555556,
              "#d8576b"
             ],
             [
              0.6666666666666666,
              "#ed7953"
             ],
             [
              0.7777777777777778,
              "#fb9f3a"
             ],
             [
              0.8888888888888888,
              "#fdca26"
             ],
             [
              1,
              "#f0f921"
             ]
            ],
            "type": "heatmap"
           }
          ],
          "heatmapgl": [
           {
            "colorbar": {
             "outlinewidth": 0,
             "ticks": ""
            },
            "colorscale": [
             [
              0,
              "#0d0887"
             ],
             [
              0.1111111111111111,
              "#46039f"
             ],
             [
              0.2222222222222222,
              "#7201a8"
             ],
             [
              0.3333333333333333,
              "#9c179e"
             ],
             [
              0.4444444444444444,
              "#bd3786"
             ],
             [
              0.5555555555555556,
              "#d8576b"
             ],
             [
              0.6666666666666666,
              "#ed7953"
             ],
             [
              0.7777777777777778,
              "#fb9f3a"
             ],
             [
              0.8888888888888888,
              "#fdca26"
             ],
             [
              1,
              "#f0f921"
             ]
            ],
            "type": "heatmapgl"
           }
          ],
          "histogram": [
           {
            "marker": {
             "pattern": {
              "fillmode": "overlay",
              "size": 10,
              "solidity": 0.2
             }
            },
            "type": "histogram"
           }
          ],
          "histogram2d": [
           {
            "colorbar": {
             "outlinewidth": 0,
             "ticks": ""
            },
            "colorscale": [
             [
              0,
              "#0d0887"
             ],
             [
              0.1111111111111111,
              "#46039f"
             ],
             [
              0.2222222222222222,
              "#7201a8"
             ],
             [
              0.3333333333333333,
              "#9c179e"
             ],
             [
              0.4444444444444444,
              "#bd3786"
             ],
             [
              0.5555555555555556,
              "#d8576b"
             ],
             [
              0.6666666666666666,
              "#ed7953"
             ],
             [
              0.7777777777777778,
              "#fb9f3a"
             ],
             [
              0.8888888888888888,
              "#fdca26"
             ],
             [
              1,
              "#f0f921"
             ]
            ],
            "type": "histogram2d"
           }
          ],
          "histogram2dcontour": [
           {
            "colorbar": {
             "outlinewidth": 0,
             "ticks": ""
            },
            "colorscale": [
             [
              0,
              "#0d0887"
             ],
             [
              0.1111111111111111,
              "#46039f"
             ],
             [
              0.2222222222222222,
              "#7201a8"
             ],
             [
              0.3333333333333333,
              "#9c179e"
             ],
             [
              0.4444444444444444,
              "#bd3786"
             ],
             [
              0.5555555555555556,
              "#d8576b"
             ],
             [
              0.6666666666666666,
              "#ed7953"
             ],
             [
              0.7777777777777778,
              "#fb9f3a"
             ],
             [
              0.8888888888888888,
              "#fdca26"
             ],
             [
              1,
              "#f0f921"
             ]
            ],
            "type": "histogram2dcontour"
           }
          ],
          "mesh3d": [
           {
            "colorbar": {
             "outlinewidth": 0,
             "ticks": ""
            },
            "type": "mesh3d"
           }
          ],
          "parcoords": [
           {
            "line": {
             "colorbar": {
              "outlinewidth": 0,
              "ticks": ""
             }
            },
            "type": "parcoords"
           }
          ],
          "pie": [
           {
            "automargin": true,
            "type": "pie"
           }
          ],
          "scatter": [
           {
            "marker": {
             "colorbar": {
              "outlinewidth": 0,
              "ticks": ""
             }
            },
            "type": "scatter"
           }
          ],
          "scatter3d": [
           {
            "line": {
             "colorbar": {
              "outlinewidth": 0,
              "ticks": ""
             }
            },
            "marker": {
             "colorbar": {
              "outlinewidth": 0,
              "ticks": ""
             }
            },
            "type": "scatter3d"
           }
          ],
          "scattercarpet": [
           {
            "marker": {
             "colorbar": {
              "outlinewidth": 0,
              "ticks": ""
             }
            },
            "type": "scattercarpet"
           }
          ],
          "scattergeo": [
           {
            "marker": {
             "colorbar": {
              "outlinewidth": 0,
              "ticks": ""
             }
            },
            "type": "scattergeo"
           }
          ],
          "scattergl": [
           {
            "marker": {
             "colorbar": {
              "outlinewidth": 0,
              "ticks": ""
             }
            },
            "type": "scattergl"
           }
          ],
          "scattermapbox": [
           {
            "marker": {
             "colorbar": {
              "outlinewidth": 0,
              "ticks": ""
             }
            },
            "type": "scattermapbox"
           }
          ],
          "scatterpolar": [
           {
            "marker": {
             "colorbar": {
              "outlinewidth": 0,
              "ticks": ""
             }
            },
            "type": "scatterpolar"
           }
          ],
          "scatterpolargl": [
           {
            "marker": {
             "colorbar": {
              "outlinewidth": 0,
              "ticks": ""
             }
            },
            "type": "scatterpolargl"
           }
          ],
          "scatterternary": [
           {
            "marker": {
             "colorbar": {
              "outlinewidth": 0,
              "ticks": ""
             }
            },
            "type": "scatterternary"
           }
          ],
          "surface": [
           {
            "colorbar": {
             "outlinewidth": 0,
             "ticks": ""
            },
            "colorscale": [
             [
              0,
              "#0d0887"
             ],
             [
              0.1111111111111111,
              "#46039f"
             ],
             [
              0.2222222222222222,
              "#7201a8"
             ],
             [
              0.3333333333333333,
              "#9c179e"
             ],
             [
              0.4444444444444444,
              "#bd3786"
             ],
             [
              0.5555555555555556,
              "#d8576b"
             ],
             [
              0.6666666666666666,
              "#ed7953"
             ],
             [
              0.7777777777777778,
              "#fb9f3a"
             ],
             [
              0.8888888888888888,
              "#fdca26"
             ],
             [
              1,
              "#f0f921"
             ]
            ],
            "type": "surface"
           }
          ],
          "table": [
           {
            "cells": {
             "fill": {
              "color": "#EBF0F8"
             },
             "line": {
              "color": "white"
             }
            },
            "header": {
             "fill": {
              "color": "#C8D4E3"
             },
             "line": {
              "color": "white"
             }
            },
            "type": "table"
           }
          ]
         },
         "layout": {
          "annotationdefaults": {
           "arrowcolor": "#2a3f5f",
           "arrowhead": 0,
           "arrowwidth": 1
          },
          "autotypenumbers": "strict",
          "coloraxis": {
           "colorbar": {
            "outlinewidth": 0,
            "ticks": ""
           }
          },
          "colorscale": {
           "diverging": [
            [
             0,
             "#8e0152"
            ],
            [
             0.1,
             "#c51b7d"
            ],
            [
             0.2,
             "#de77ae"
            ],
            [
             0.3,
             "#f1b6da"
            ],
            [
             0.4,
             "#fde0ef"
            ],
            [
             0.5,
             "#f7f7f7"
            ],
            [
             0.6,
             "#e6f5d0"
            ],
            [
             0.7,
             "#b8e186"
            ],
            [
             0.8,
             "#7fbc41"
            ],
            [
             0.9,
             "#4d9221"
            ],
            [
             1,
             "#276419"
            ]
           ],
           "sequential": [
            [
             0,
             "#0d0887"
            ],
            [
             0.1111111111111111,
             "#46039f"
            ],
            [
             0.2222222222222222,
             "#7201a8"
            ],
            [
             0.3333333333333333,
             "#9c179e"
            ],
            [
             0.4444444444444444,
             "#bd3786"
            ],
            [
             0.5555555555555556,
             "#d8576b"
            ],
            [
             0.6666666666666666,
             "#ed7953"
            ],
            [
             0.7777777777777778,
             "#fb9f3a"
            ],
            [
             0.8888888888888888,
             "#fdca26"
            ],
            [
             1,
             "#f0f921"
            ]
           ],
           "sequentialminus": [
            [
             0,
             "#0d0887"
            ],
            [
             0.1111111111111111,
             "#46039f"
            ],
            [
             0.2222222222222222,
             "#7201a8"
            ],
            [
             0.3333333333333333,
             "#9c179e"
            ],
            [
             0.4444444444444444,
             "#bd3786"
            ],
            [
             0.5555555555555556,
             "#d8576b"
            ],
            [
             0.6666666666666666,
             "#ed7953"
            ],
            [
             0.7777777777777778,
             "#fb9f3a"
            ],
            [
             0.8888888888888888,
             "#fdca26"
            ],
            [
             1,
             "#f0f921"
            ]
           ]
          },
          "colorway": [
           "#636efa",
           "#EF553B",
           "#00cc96",
           "#ab63fa",
           "#FFA15A",
           "#19d3f3",
           "#FF6692",
           "#B6E880",
           "#FF97FF",
           "#FECB52"
          ],
          "font": {
           "color": "#2a3f5f"
          },
          "geo": {
           "bgcolor": "white",
           "lakecolor": "white",
           "landcolor": "#E5ECF6",
           "showlakes": true,
           "showland": true,
           "subunitcolor": "white"
          },
          "hoverlabel": {
           "align": "left"
          },
          "hovermode": "closest",
          "mapbox": {
           "style": "light"
          },
          "paper_bgcolor": "white",
          "plot_bgcolor": "#E5ECF6",
          "polar": {
           "angularaxis": {
            "gridcolor": "white",
            "linecolor": "white",
            "ticks": ""
           },
           "bgcolor": "#E5ECF6",
           "radialaxis": {
            "gridcolor": "white",
            "linecolor": "white",
            "ticks": ""
           }
          },
          "scene": {
           "xaxis": {
            "backgroundcolor": "#E5ECF6",
            "gridcolor": "white",
            "gridwidth": 2,
            "linecolor": "white",
            "showbackground": true,
            "ticks": "",
            "zerolinecolor": "white"
           },
           "yaxis": {
            "backgroundcolor": "#E5ECF6",
            "gridcolor": "white",
            "gridwidth": 2,
            "linecolor": "white",
            "showbackground": true,
            "ticks": "",
            "zerolinecolor": "white"
           },
           "zaxis": {
            "backgroundcolor": "#E5ECF6",
            "gridcolor": "white",
            "gridwidth": 2,
            "linecolor": "white",
            "showbackground": true,
            "ticks": "",
            "zerolinecolor": "white"
           }
          },
          "shapedefaults": {
           "line": {
            "color": "#2a3f5f"
           }
          },
          "ternary": {
           "aaxis": {
            "gridcolor": "white",
            "linecolor": "white",
            "ticks": ""
           },
           "baxis": {
            "gridcolor": "white",
            "linecolor": "white",
            "ticks": ""
           },
           "bgcolor": "#E5ECF6",
           "caxis": {
            "gridcolor": "white",
            "linecolor": "white",
            "ticks": ""
           }
          },
          "title": {
           "x": 0.05
          },
          "xaxis": {
           "automargin": true,
           "gridcolor": "white",
           "linecolor": "white",
           "ticks": "",
           "title": {
            "standoff": 15
           },
           "zerolinecolor": "white",
           "zerolinewidth": 2
          },
          "yaxis": {
           "automargin": true,
           "gridcolor": "white",
           "linecolor": "white",
           "ticks": "",
           "title": {
            "standoff": 15
           },
           "zerolinecolor": "white",
           "zerolinewidth": 2
          }
         }
        }
       }
      },
      "text/html": [
       "<div>                            <div id=\"6928ab37-7452-43b4-8ddd-f694097a8533\" class=\"plotly-graph-div\" style=\"height:525px; width:100%;\"></div>            <script type=\"text/javascript\">                require([\"plotly\"], function(Plotly) {                    window.PLOTLYENV=window.PLOTLYENV || {};                                    if (document.getElementById(\"6928ab37-7452-43b4-8ddd-f694097a8533\")) {                    Plotly.newPlot(                        \"6928ab37-7452-43b4-8ddd-f694097a8533\",                        [{\"colorbar\":{\"title\":{\"text\":\"COVID-19 Deaths Per Day\"}},\"colorscale\":[[0.0,\"rgb(247,251,255)\"],[0.125,\"rgb(222,235,247)\"],[0.25,\"rgb(198,219,239)\"],[0.375,\"rgb(158,202,225)\"],[0.5,\"rgb(107,174,214)\"],[0.625,\"rgb(66,146,198)\"],[0.75,\"rgb(33,113,181)\"],[0.875,\"rgb(8,81,156)\"],[1.0,\"rgb(8,48,107)\"]],\"locationmode\":\"USA-states\",\"locations\":[\"VT\",\"AK\",\"HI\",\"ME\",\"WY\",\"NH\",\"ND\",\"DE\",\"SD\",\"MT\",\"NE\",\"RI\",\"UT\",\"ID\",\"WV\",\"NM\",\"OR\",\"KS\",\"IA\",\"NV\",\"AR\",\"CT\",\"CO\",\"MS\",\"WA\",\"MN\",\"WI\",\"OK\",\"KY\",\"MD\",\"MO\",\"SC\",\"VA\",\"LA\",\"AL\",\"TN\",\"IN\",\"NC\",\"MA\",\"AZ\",\"NY\",\"OH\",\"MI\",\"NJ\",\"IL\",\"GA\",\"PA\",\"FL\",\"TX\",\"CA\"],\"text\":[\"Vermont\",\"Alaska\",\"Hawaii\",\"Maine\",\"Wyoming\",\"New Hampshire\",\"North Dakota\",\"Delaware\",\"South Dakota\",\"Montana\",\"Nebraska\",\"Rhode Island\",\"Utah\",\"Idaho\",\"West Virginia\",\"New Mexico\",\"Oregon\",\"Kansas\",\"Iowa\",\"Nevada\",\"Arkansas\",\"Connecticut\",\"Colorado\",\"Mississippi\",\"Washington\",\"Minnesota\",\"Wisconsin\",\"Oklahoma\",\"Kentucky\",\"Maryland\",\"Missouri\",\"South Carolina\",\"Virginia\",\"Louisiana\",\"Alabama\",\"Tennessee\",\"Indiana\",\"North Carolina\",\"Massachusetts\",\"Arizona\",\"New York\",\"Ohio\",\"Michigan\",\"New Jersey\",\"Illinois\",\"Georgia\",\"Pennsylvania\",\"Florida\",\"Texas\",\"California\"],\"type\":\"choropleth\",\"z\":[0.5731166912850812,1.2511078286558346,1.4874446085672082,1.9246676514032497,1.9896602658788773,2.485967503692762,2.772525849335303,3.0059084194977843,3.4268833087149186,3.847858197932053,4.0635155096011815,4.30576070901034,5.13589364844904,5.759231905465288,6.844903988183161,7.522895125553914,7.556868537666174,9.85672082717873,10.862629246676514,11.775480059084195,12.367799113737075,13.094534711964549,13.44165435745938,13.46824224519941,13.601181683899556,13.682422451994091,14.688330871491877,15.103397341211226,16.02954209748892,16.522895125553916,18.556868537666173,20.908419497784344,21.648449039881832,21.82717872968981,23.810930576070902,25.062038404726735,25.680945347119646,27.586410635155097,28.583456425406204,32.83456425406204,33.19350073855244,33.55982274741507,34.4903988183161,39.16543574593796,43.21713441654357,44.15361890694239,49.16248153618907,90.89807976366322,106.91432791728212,108.36779911373708]}],                        {\"geo\":{\"scope\":\"usa\"},\"template\":{\"data\":{\"bar\":[{\"error_x\":{\"color\":\"#2a3f5f\"},\"error_y\":{\"color\":\"#2a3f5f\"},\"marker\":{\"line\":{\"color\":\"#E5ECF6\",\"width\":0.5},\"pattern\":{\"fillmode\":\"overlay\",\"size\":10,\"solidity\":0.2}},\"type\":\"bar\"}],\"barpolar\":[{\"marker\":{\"line\":{\"color\":\"#E5ECF6\",\"width\":0.5},\"pattern\":{\"fillmode\":\"overlay\",\"size\":10,\"solidity\":0.2}},\"type\":\"barpolar\"}],\"carpet\":[{\"aaxis\":{\"endlinecolor\":\"#2a3f5f\",\"gridcolor\":\"white\",\"linecolor\":\"white\",\"minorgridcolor\":\"white\",\"startlinecolor\":\"#2a3f5f\"},\"baxis\":{\"endlinecolor\":\"#2a3f5f\",\"gridcolor\":\"white\",\"linecolor\":\"white\",\"minorgridcolor\":\"white\",\"startlinecolor\":\"#2a3f5f\"},\"type\":\"carpet\"}],\"choropleth\":[{\"colorbar\":{\"outlinewidth\":0,\"ticks\":\"\"},\"type\":\"choropleth\"}],\"contour\":[{\"colorbar\":{\"outlinewidth\":0,\"ticks\":\"\"},\"colorscale\":[[0.0,\"#0d0887\"],[0.1111111111111111,\"#46039f\"],[0.2222222222222222,\"#7201a8\"],[0.3333333333333333,\"#9c179e\"],[0.4444444444444444,\"#bd3786\"],[0.5555555555555556,\"#d8576b\"],[0.6666666666666666,\"#ed7953\"],[0.7777777777777778,\"#fb9f3a\"],[0.8888888888888888,\"#fdca26\"],[1.0,\"#f0f921\"]],\"type\":\"contour\"}],\"contourcarpet\":[{\"colorbar\":{\"outlinewidth\":0,\"ticks\":\"\"},\"type\":\"contourcarpet\"}],\"heatmap\":[{\"colorbar\":{\"outlinewidth\":0,\"ticks\":\"\"},\"colorscale\":[[0.0,\"#0d0887\"],[0.1111111111111111,\"#46039f\"],[0.2222222222222222,\"#7201a8\"],[0.3333333333333333,\"#9c179e\"],[0.4444444444444444,\"#bd3786\"],[0.5555555555555556,\"#d8576b\"],[0.6666666666666666,\"#ed7953\"],[0.7777777777777778,\"#fb9f3a\"],[0.8888888888888888,\"#fdca26\"],[1.0,\"#f0f921\"]],\"type\":\"heatmap\"}],\"heatmapgl\":[{\"colorbar\":{\"outlinewidth\":0,\"ticks\":\"\"},\"colorscale\":[[0.0,\"#0d0887\"],[0.1111111111111111,\"#46039f\"],[0.2222222222222222,\"#7201a8\"],[0.3333333333333333,\"#9c179e\"],[0.4444444444444444,\"#bd3786\"],[0.5555555555555556,\"#d8576b\"],[0.6666666666666666,\"#ed7953\"],[0.7777777777777778,\"#fb9f3a\"],[0.8888888888888888,\"#fdca26\"],[1.0,\"#f0f921\"]],\"type\":\"heatmapgl\"}],\"histogram\":[{\"marker\":{\"pattern\":{\"fillmode\":\"overlay\",\"size\":10,\"solidity\":0.2}},\"type\":\"histogram\"}],\"histogram2d\":[{\"colorbar\":{\"outlinewidth\":0,\"ticks\":\"\"},\"colorscale\":[[0.0,\"#0d0887\"],[0.1111111111111111,\"#46039f\"],[0.2222222222222222,\"#7201a8\"],[0.3333333333333333,\"#9c179e\"],[0.4444444444444444,\"#bd3786\"],[0.5555555555555556,\"#d8576b\"],[0.6666666666666666,\"#ed7953\"],[0.7777777777777778,\"#fb9f3a\"],[0.8888888888888888,\"#fdca26\"],[1.0,\"#f0f921\"]],\"type\":\"histogram2d\"}],\"histogram2dcontour\":[{\"colorbar\":{\"outlinewidth\":0,\"ticks\":\"\"},\"colorscale\":[[0.0,\"#0d0887\"],[0.1111111111111111,\"#46039f\"],[0.2222222222222222,\"#7201a8\"],[0.3333333333333333,\"#9c179e\"],[0.4444444444444444,\"#bd3786\"],[0.5555555555555556,\"#d8576b\"],[0.6666666666666666,\"#ed7953\"],[0.7777777777777778,\"#fb9f3a\"],[0.8888888888888888,\"#fdca26\"],[1.0,\"#f0f921\"]],\"type\":\"histogram2dcontour\"}],\"mesh3d\":[{\"colorbar\":{\"outlinewidth\":0,\"ticks\":\"\"},\"type\":\"mesh3d\"}],\"parcoords\":[{\"line\":{\"colorbar\":{\"outlinewidth\":0,\"ticks\":\"\"}},\"type\":\"parcoords\"}],\"pie\":[{\"automargin\":true,\"type\":\"pie\"}],\"scatter\":[{\"marker\":{\"colorbar\":{\"outlinewidth\":0,\"ticks\":\"\"}},\"type\":\"scatter\"}],\"scatter3d\":[{\"line\":{\"colorbar\":{\"outlinewidth\":0,\"ticks\":\"\"}},\"marker\":{\"colorbar\":{\"outlinewidth\":0,\"ticks\":\"\"}},\"type\":\"scatter3d\"}],\"scattercarpet\":[{\"marker\":{\"colorbar\":{\"outlinewidth\":0,\"ticks\":\"\"}},\"type\":\"scattercarpet\"}],\"scattergeo\":[{\"marker\":{\"colorbar\":{\"outlinewidth\":0,\"ticks\":\"\"}},\"type\":\"scattergeo\"}],\"scattergl\":[{\"marker\":{\"colorbar\":{\"outlinewidth\":0,\"ticks\":\"\"}},\"type\":\"scattergl\"}],\"scattermapbox\":[{\"marker\":{\"colorbar\":{\"outlinewidth\":0,\"ticks\":\"\"}},\"type\":\"scattermapbox\"}],\"scatterpolar\":[{\"marker\":{\"colorbar\":{\"outlinewidth\":0,\"ticks\":\"\"}},\"type\":\"scatterpolar\"}],\"scatterpolargl\":[{\"marker\":{\"colorbar\":{\"outlinewidth\":0,\"ticks\":\"\"}},\"type\":\"scatterpolargl\"}],\"scatterternary\":[{\"marker\":{\"colorbar\":{\"outlinewidth\":0,\"ticks\":\"\"}},\"type\":\"scatterternary\"}],\"surface\":[{\"colorbar\":{\"outlinewidth\":0,\"ticks\":\"\"},\"colorscale\":[[0.0,\"#0d0887\"],[0.1111111111111111,\"#46039f\"],[0.2222222222222222,\"#7201a8\"],[0.3333333333333333,\"#9c179e\"],[0.4444444444444444,\"#bd3786\"],[0.5555555555555556,\"#d8576b\"],[0.6666666666666666,\"#ed7953\"],[0.7777777777777778,\"#fb9f3a\"],[0.8888888888888888,\"#fdca26\"],[1.0,\"#f0f921\"]],\"type\":\"surface\"}],\"table\":[{\"cells\":{\"fill\":{\"color\":\"#EBF0F8\"},\"line\":{\"color\":\"white\"}},\"header\":{\"fill\":{\"color\":\"#C8D4E3\"},\"line\":{\"color\":\"white\"}},\"type\":\"table\"}]},\"layout\":{\"annotationdefaults\":{\"arrowcolor\":\"#2a3f5f\",\"arrowhead\":0,\"arrowwidth\":1},\"autotypenumbers\":\"strict\",\"coloraxis\":{\"colorbar\":{\"outlinewidth\":0,\"ticks\":\"\"}},\"colorscale\":{\"diverging\":[[0,\"#8e0152\"],[0.1,\"#c51b7d\"],[0.2,\"#de77ae\"],[0.3,\"#f1b6da\"],[0.4,\"#fde0ef\"],[0.5,\"#f7f7f7\"],[0.6,\"#e6f5d0\"],[0.7,\"#b8e186\"],[0.8,\"#7fbc41\"],[0.9,\"#4d9221\"],[1,\"#276419\"]],\"sequential\":[[0.0,\"#0d0887\"],[0.1111111111111111,\"#46039f\"],[0.2222222222222222,\"#7201a8\"],[0.3333333333333333,\"#9c179e\"],[0.4444444444444444,\"#bd3786\"],[0.5555555555555556,\"#d8576b\"],[0.6666666666666666,\"#ed7953\"],[0.7777777777777778,\"#fb9f3a\"],[0.8888888888888888,\"#fdca26\"],[1.0,\"#f0f921\"]],\"sequentialminus\":[[0.0,\"#0d0887\"],[0.1111111111111111,\"#46039f\"],[0.2222222222222222,\"#7201a8\"],[0.3333333333333333,\"#9c179e\"],[0.4444444444444444,\"#bd3786\"],[0.5555555555555556,\"#d8576b\"],[0.6666666666666666,\"#ed7953\"],[0.7777777777777778,\"#fb9f3a\"],[0.8888888888888888,\"#fdca26\"],[1.0,\"#f0f921\"]]},\"colorway\":[\"#636efa\",\"#EF553B\",\"#00cc96\",\"#ab63fa\",\"#FFA15A\",\"#19d3f3\",\"#FF6692\",\"#B6E880\",\"#FF97FF\",\"#FECB52\"],\"font\":{\"color\":\"#2a3f5f\"},\"geo\":{\"bgcolor\":\"white\",\"lakecolor\":\"white\",\"landcolor\":\"#E5ECF6\",\"showlakes\":true,\"showland\":true,\"subunitcolor\":\"white\"},\"hoverlabel\":{\"align\":\"left\"},\"hovermode\":\"closest\",\"mapbox\":{\"style\":\"light\"},\"paper_bgcolor\":\"white\",\"plot_bgcolor\":\"#E5ECF6\",\"polar\":{\"angularaxis\":{\"gridcolor\":\"white\",\"linecolor\":\"white\",\"ticks\":\"\"},\"bgcolor\":\"#E5ECF6\",\"radialaxis\":{\"gridcolor\":\"white\",\"linecolor\":\"white\",\"ticks\":\"\"}},\"scene\":{\"xaxis\":{\"backgroundcolor\":\"#E5ECF6\",\"gridcolor\":\"white\",\"gridwidth\":2,\"linecolor\":\"white\",\"showbackground\":true,\"ticks\":\"\",\"zerolinecolor\":\"white\"},\"yaxis\":{\"backgroundcolor\":\"#E5ECF6\",\"gridcolor\":\"white\",\"gridwidth\":2,\"linecolor\":\"white\",\"showbackground\":true,\"ticks\":\"\",\"zerolinecolor\":\"white\"},\"zaxis\":{\"backgroundcolor\":\"#E5ECF6\",\"gridcolor\":\"white\",\"gridwidth\":2,\"linecolor\":\"white\",\"showbackground\":true,\"ticks\":\"\",\"zerolinecolor\":\"white\"}},\"shapedefaults\":{\"line\":{\"color\":\"#2a3f5f\"}},\"ternary\":{\"aaxis\":{\"gridcolor\":\"white\",\"linecolor\":\"white\",\"ticks\":\"\"},\"baxis\":{\"gridcolor\":\"white\",\"linecolor\":\"white\",\"ticks\":\"\"},\"bgcolor\":\"#E5ECF6\",\"caxis\":{\"gridcolor\":\"white\",\"linecolor\":\"white\",\"ticks\":\"\"}},\"title\":{\"x\":0.05},\"xaxis\":{\"automargin\":true,\"gridcolor\":\"white\",\"linecolor\":\"white\",\"ticks\":\"\",\"title\":{\"standoff\":15},\"zerolinecolor\":\"white\",\"zerolinewidth\":2},\"yaxis\":{\"automargin\":true,\"gridcolor\":\"white\",\"linecolor\":\"white\",\"ticks\":\"\",\"title\":{\"standoff\":15},\"zerolinecolor\":\"white\",\"zerolinewidth\":2}}}},                        {\"responsive\": true}                    ).then(function(){\n",
       "                            \n",
       "var gd = document.getElementById('6928ab37-7452-43b4-8ddd-f694097a8533');\n",
       "var x = new MutationObserver(function (mutations, observer) {{\n",
       "        var display = window.getComputedStyle(gd).display;\n",
       "        if (!display || display === 'none') {{\n",
       "            console.log([gd, 'removed!']);\n",
       "            Plotly.purge(gd);\n",
       "            observer.disconnect();\n",
       "        }}\n",
       "}});\n",
       "\n",
       "// Listen for the removal of the full notebook cells\n",
       "var notebookContainer = gd.closest('#notebook-container');\n",
       "if (notebookContainer) {{\n",
       "    x.observe(notebookContainer, {childList: true});\n",
       "}}\n",
       "\n",
       "// Listen for the clearing of the current output cell\n",
       "var outputEl = gd.closest('.output');\n",
       "if (outputEl) {{\n",
       "    x.observe(outputEl, {childList: true});\n",
       "}}\n",
       "\n",
       "                        })                };                });            </script>        </div>"
      ]
     },
     "metadata": {},
     "output_type": "display_data"
    }
   ],
   "source": [
    "data = dict(type = 'choropleth',\n",
    "            locations = df_us_covid_avgdeath['state'],\n",
    "            locationmode = 'USA-states',\n",
    "            text = map_state_name(df_us_covid_avgdeath['state']),\n",
    "            z = df_us_covid_avgdeath['death_avg_per_day'],\n",
    "            colorscale = 'Blues',\n",
    "            colorbar = {'title':'COVID-19 Deaths Per Day'})\n",
    "\n",
    "layout = dict(geo = {'scope':'usa'})\n",
    "\n",
    "choromap = go.Figure(data = [data], layout = layout)\n",
    "\n",
    "iplot(choromap)"
   ]
  },
  {
   "cell_type": "markdown",
   "id": "ab2462c6",
   "metadata": {},
   "source": [
    "### Plotting US daily cases"
   ]
  },
  {
   "cell_type": "code",
   "execution_count": 67,
   "id": "63b733a1",
   "metadata": {},
   "outputs": [
    {
     "data": {
      "text/html": [
       "<div>\n",
       "<style scoped>\n",
       "    .dataframe tbody tr th:only-of-type {\n",
       "        vertical-align: middle;\n",
       "    }\n",
       "\n",
       "    .dataframe tbody tr th {\n",
       "        vertical-align: top;\n",
       "    }\n",
       "\n",
       "    .dataframe thead th {\n",
       "        text-align: right;\n",
       "    }\n",
       "</style>\n",
       "<table border=\"1\" class=\"dataframe\">\n",
       "  <thead>\n",
       "    <tr style=\"text-align: right;\">\n",
       "      <th></th>\n",
       "      <th>submission_date</th>\n",
       "      <th>new_cases</th>\n",
       "    </tr>\n",
       "  </thead>\n",
       "  <tbody>\n",
       "    <tr>\n",
       "      <th>0</th>\n",
       "      <td>2020-01-22</td>\n",
       "      <td>0</td>\n",
       "    </tr>\n",
       "    <tr>\n",
       "      <th>1</th>\n",
       "      <td>2020-01-23</td>\n",
       "      <td>1</td>\n",
       "    </tr>\n",
       "    <tr>\n",
       "      <th>2</th>\n",
       "      <td>2020-01-24</td>\n",
       "      <td>1</td>\n",
       "    </tr>\n",
       "    <tr>\n",
       "      <th>3</th>\n",
       "      <td>2020-01-25</td>\n",
       "      <td>0</td>\n",
       "    </tr>\n",
       "    <tr>\n",
       "      <th>4</th>\n",
       "      <td>2020-01-26</td>\n",
       "      <td>1</td>\n",
       "    </tr>\n",
       "  </tbody>\n",
       "</table>\n",
       "</div>"
      ],
      "text/plain": [
       "  submission_date  new_cases\n",
       "0      2020-01-22          0\n",
       "1      2020-01-23          1\n",
       "2      2020-01-24          1\n",
       "3      2020-01-25          0\n",
       "4      2020-01-26          1"
      ]
     },
     "execution_count": 67,
     "metadata": {},
     "output_type": "execute_result"
    }
   ],
   "source": [
    "# Plotting US daily cases\n",
    "# First create a new dataframe with totals per day\n",
    "df_us_covid_dailycase = df_us_covid[['submission_date','new_case']].groupby('submission_date').sum().reset_index()\n",
    "\n",
    "# Rename new_case column\n",
    "df_us_covid_dailycase.rename(columns = {'new_case':'new_cases'}, inplace = True)\n",
    "\n",
    "# Sort the dataframe using the date\n",
    "df_us_covid_dailycase.sort_values(by = 'submission_date', inplace = True)\n",
    "\n",
    "df_us_covid_dailycase.head()"
   ]
  },
  {
   "cell_type": "code",
   "execution_count": 68,
   "id": "48339486",
   "metadata": {
    "scrolled": true
   },
   "outputs": [
    {
     "data": {
      "image/png": "[encoded data removed]",
      "text/plain": [
       "<Figure size 1080x432 with 1 Axes>"
      ]
     },
     "metadata": {
      "needs_background": "light"
     },
     "output_type": "display_data"
    }
   ],
   "source": [
    "import matplotlib.dates as mdates\n",
    "\n",
    "fig, ax = plt.subplots(figsize=(15, 6))\n",
    "\n",
    "# add title, xlabel to the plot\n",
    "ax.set_title('US COVID-19 Daily Cases')\n",
    "ax.set_xlabel('Dates')\n",
    "ax.set_ylabel('Total COVID-19 Cases')\n",
    "\n",
    "# plot\n",
    "ax.bar(df_us_covid_dailycase['submission_date'], df_us_covid_dailycase['new_cases'])\n",
    "ax.xaxis.set_major_formatter(mdates.DateFormatter('%b %Y'))\n",
    "plt.show()"
   ]
  },
  {
   "cell_type": "markdown",
   "id": "e1604370",
   "metadata": {},
   "source": [
    "## Adjust data with State population density"
   ]
  },
  {
   "cell_type": "code",
   "execution_count": 78,
   "id": "1e0bdd06",
   "metadata": {},
   "outputs": [
    {
     "data": {
      "text/html": [
       "<div>\n",
       "<style scoped>\n",
       "    .dataframe tbody tr th:only-of-type {\n",
       "        vertical-align: middle;\n",
       "    }\n",
       "\n",
       "    .dataframe tbody tr th {\n",
       "        vertical-align: top;\n",
       "    }\n",
       "\n",
       "    .dataframe thead th {\n",
       "        text-align: right;\n",
       "    }\n",
       "</style>\n",
       "<table border=\"1\" class=\"dataframe\">\n",
       "  <thead>\n",
       "    <tr style=\"text-align: right;\">\n",
       "      <th></th>\n",
       "      <th>Name</th>\n",
       "      <th>Geography Type</th>\n",
       "      <th>Year</th>\n",
       "      <th>Resident Population</th>\n",
       "      <th>Percent Change in Resident Population</th>\n",
       "      <th>Resident Population Density</th>\n",
       "      <th>Resident Population Density Rank</th>\n",
       "      <th>Number of Representatives</th>\n",
       "      <th>Change in Number of Representatives</th>\n",
       "      <th>Average Apportionment Population Per Representative</th>\n",
       "    </tr>\n",
       "  </thead>\n",
       "  <tbody>\n",
       "    <tr>\n",
       "      <th>0</th>\n",
       "      <td>Alabama</td>\n",
       "      <td>State</td>\n",
       "      <td>1910</td>\n",
       "      <td>2,138,093</td>\n",
       "      <td>16.9</td>\n",
       "      <td>42.2</td>\n",
       "      <td>25.0</td>\n",
       "      <td>10.0</td>\n",
       "      <td>1.0</td>\n",
       "      <td>213,809</td>\n",
       "    </tr>\n",
       "    <tr>\n",
       "      <th>1</th>\n",
       "      <td>Alaska</td>\n",
       "      <td>State</td>\n",
       "      <td>1910</td>\n",
       "      <td>64,356</td>\n",
       "      <td>1.2</td>\n",
       "      <td>0.1</td>\n",
       "      <td>52.0</td>\n",
       "      <td>NaN</td>\n",
       "      <td>NaN</td>\n",
       "      <td>NaN</td>\n",
       "    </tr>\n",
       "    <tr>\n",
       "      <th>2</th>\n",
       "      <td>Arizona</td>\n",
       "      <td>State</td>\n",
       "      <td>1910</td>\n",
       "      <td>204,354</td>\n",
       "      <td>66.2</td>\n",
       "      <td>1.8</td>\n",
       "      <td>49.0</td>\n",
       "      <td>NaN</td>\n",
       "      <td>NaN</td>\n",
       "      <td>NaN</td>\n",
       "    </tr>\n",
       "    <tr>\n",
       "      <th>3</th>\n",
       "      <td>Arkansas</td>\n",
       "      <td>State</td>\n",
       "      <td>1910</td>\n",
       "      <td>1,574,449</td>\n",
       "      <td>20.0</td>\n",
       "      <td>30.3</td>\n",
       "      <td>30.0</td>\n",
       "      <td>7.0</td>\n",
       "      <td>0.0</td>\n",
       "      <td>224,921</td>\n",
       "    </tr>\n",
       "    <tr>\n",
       "      <th>4</th>\n",
       "      <td>California</td>\n",
       "      <td>State</td>\n",
       "      <td>1910</td>\n",
       "      <td>2,377,549</td>\n",
       "      <td>60.1</td>\n",
       "      <td>15.3</td>\n",
       "      <td>38.0</td>\n",
       "      <td>11.0</td>\n",
       "      <td>3.0</td>\n",
       "      <td>216,051</td>\n",
       "    </tr>\n",
       "  </tbody>\n",
       "</table>\n",
       "</div>"
      ],
      "text/plain": [
       "         Name Geography Type  Year Resident Population  \\\n",
       "0     Alabama          State  1910           2,138,093   \n",
       "1      Alaska          State  1910              64,356   \n",
       "2     Arizona          State  1910             204,354   \n",
       "3    Arkansas          State  1910           1,574,449   \n",
       "4  California          State  1910           2,377,549   \n",
       "\n",
       "   Percent Change in Resident Population Resident Population Density  \\\n",
       "0                                   16.9                        42.2   \n",
       "1                                    1.2                         0.1   \n",
       "2                                   66.2                         1.8   \n",
       "3                                   20.0                        30.3   \n",
       "4                                   60.1                        15.3   \n",
       "\n",
       "   Resident Population Density Rank  Number of Representatives  \\\n",
       "0                              25.0                       10.0   \n",
       "1                              52.0                        NaN   \n",
       "2                              49.0                        NaN   \n",
       "3                              30.0                        7.0   \n",
       "4                              38.0                       11.0   \n",
       "\n",
       "   Change in Number of Representatives  \\\n",
       "0                                  1.0   \n",
       "1                                  NaN   \n",
       "2                                  NaN   \n",
       "3                                  0.0   \n",
       "4                                  3.0   \n",
       "\n",
       "  Average Apportionment Population Per Representative  \n",
       "0                                            213,809   \n",
       "1                                                NaN   \n",
       "2                                                NaN   \n",
       "3                                            224,921   \n",
       "4                                            216,051   "
      ]
     },
     "execution_count": 78,
     "metadata": {},
     "output_type": "execute_result"
    }
   ],
   "source": [
    "# Load Historical Population Density Data from https://www.census.gov/data/tables/time-series/dec/density-data-text.html\n",
    "df_us_state_pop = pd.read_csv('data/apportionment.csv')\n",
    "df_us_state_pop.head()"
   ]
  },
  {
   "cell_type": "code",
   "execution_count": 79,
   "id": "fca961ce",
   "metadata": {},
   "outputs": [
    {
     "name": "stdout",
     "output_type": "stream",
     "text": [
      "US Population =  331,449,281\n"
     ]
    },
    {
     "data": {
      "text/html": [
       "<div>\n",
       "<style scoped>\n",
       "    .dataframe tbody tr th:only-of-type {\n",
       "        vertical-align: middle;\n",
       "    }\n",
       "\n",
       "    .dataframe tbody tr th {\n",
       "        vertical-align: top;\n",
       "    }\n",
       "\n",
       "    .dataframe thead th {\n",
       "        text-align: right;\n",
       "    }\n",
       "</style>\n",
       "<table border=\"1\" class=\"dataframe\">\n",
       "  <thead>\n",
       "    <tr style=\"text-align: right;\">\n",
       "      <th></th>\n",
       "      <th>state_name</th>\n",
       "      <th>population</th>\n",
       "      <th>state</th>\n",
       "      <th>population_per_100k</th>\n",
       "    </tr>\n",
       "  </thead>\n",
       "  <tbody>\n",
       "    <tr>\n",
       "      <th>0</th>\n",
       "      <td>Alabama</td>\n",
       "      <td>5024279</td>\n",
       "      <td>AL</td>\n",
       "      <td>50.24279</td>\n",
       "    </tr>\n",
       "    <tr>\n",
       "      <th>1</th>\n",
       "      <td>Alaska</td>\n",
       "      <td>733391</td>\n",
       "      <td>AK</td>\n",
       "      <td>7.33391</td>\n",
       "    </tr>\n",
       "    <tr>\n",
       "      <th>2</th>\n",
       "      <td>Arizona</td>\n",
       "      <td>7151502</td>\n",
       "      <td>AZ</td>\n",
       "      <td>71.51502</td>\n",
       "    </tr>\n",
       "    <tr>\n",
       "      <th>3</th>\n",
       "      <td>Arkansas</td>\n",
       "      <td>3011524</td>\n",
       "      <td>AR</td>\n",
       "      <td>30.11524</td>\n",
       "    </tr>\n",
       "    <tr>\n",
       "      <th>4</th>\n",
       "      <td>California</td>\n",
       "      <td>39538223</td>\n",
       "      <td>CA</td>\n",
       "      <td>395.38223</td>\n",
       "    </tr>\n",
       "  </tbody>\n",
       "</table>\n",
       "</div>"
      ],
      "text/plain": [
       "   state_name  population state  population_per_100k\n",
       "0     Alabama     5024279    AL             50.24279\n",
       "1      Alaska      733391    AK              7.33391\n",
       "2     Arizona     7151502    AZ             71.51502\n",
       "3    Arkansas     3011524    AR             30.11524\n",
       "4  California    39538223    CA            395.38223"
      ]
     },
     "execution_count": 79,
     "metadata": {},
     "output_type": "execute_result"
    }
   ],
   "source": [
    "# Drop some columns\n",
    "drop_cols = [\n",
    "    'Percent Change in Resident Population',\n",
    "    'Resident Population Density',\n",
    "    'Resident Population Density Rank',\n",
    "    'Number of Representatives',\n",
    "    'Change in Number of Representatives',\n",
    "    'Average Apportionment Population Per Representative'\n",
    "]\n",
    "df_us_state_pop.drop(drop_cols, axis = 1, inplace = True)\n",
    "\n",
    "# Get US population\n",
    "us_population = df_us_state_pop.loc[(df_us_state_pop['Year'] == 2020) & (df_us_state_pop['Geography Type'] == 'Nation'), 'Resident Population'].values[0]\n",
    "\n",
    "# Use only Geography Type = State and Year = 2020 data\n",
    "df_us_state_pop = df_us_state_pop[(df_us_state_pop['Geography Type'] == 'State') & (df_us_state_pop['Year'] == 2020)]\n",
    "df_us_state_pop.drop(['Geography Type', 'Year'], axis = 1, inplace = True)\n",
    "\n",
    "# Use State Abbreviation for states\n",
    "df_us_state_pop['state'] = map_state_abbrv(df_us_state_pop['Name'])\n",
    "\n",
    "# Cast Resident Population as integer\n",
    "df_us_state_pop['Resident Population'] = df_us_state_pop['Resident Population'].str.replace(',', '').astype(int)\n",
    "\n",
    "# Calculate population per 100,000\n",
    "df_us_state_pop['population_per_100k'] = df_us_state_pop['Resident Population'] / 100000\n",
    "\n",
    "# Rename columns\n",
    "df_us_state_pop.rename(columns = {'Resident Population':'population', 'Name': 'state_name'}, inplace = True)\n",
    "\n",
    "# Reindex dataframe\n",
    "df_us_state_pop.reset_index(drop = True, inplace = True)\n",
    "\n",
    "print('US Population = ', us_population)\n",
    "df_us_state_pop.head()"
   ]
  },
  {
   "cell_type": "markdown",
   "id": "0b4ef32b",
   "metadata": {},
   "source": [
    "### Adjusting US states average cases to population density"
   ]
  },
  {
   "cell_type": "code",
   "execution_count": 110,
   "id": "101f8c83",
   "metadata": {},
   "outputs": [
    {
     "name": "stdout",
     "output_type": "stream",
     "text": [
      "45\n",
      "10\n",
      "49\n",
      "20\n",
      "0\n",
      "7\n",
      "29\n",
      "27\n",
      "40\n",
      "38\n",
      "25\n",
      "48\n",
      "12\n",
      "28\n",
      "31\n",
      "36\n",
      "6\n",
      "32\n",
      "15\n",
      "24\n",
      "11\n",
      "2\n",
      "19\n",
      "43\n",
      "35\n",
      "46\n",
      "17\n",
      "16\n",
      "5\n",
      "1\n",
      "22\n",
      "23\n",
      "18\n",
      "39\n",
      "44\n",
      "47\n",
      "14\n",
      "30\n",
      "3\n",
      "41\n",
      "21\n",
      "26\n",
      "33\n",
      "9\n",
      "34\n",
      "37\n",
      "13\n",
      "8\n",
      "42\n",
      "4\n"
     ]
    },
    {
     "data": {
      "text/html": [
       "<div>\n",
       "<style scoped>\n",
       "    .dataframe tbody tr th:only-of-type {\n",
       "        vertical-align: middle;\n",
       "    }\n",
       "\n",
       "    .dataframe tbody tr th {\n",
       "        vertical-align: top;\n",
       "    }\n",
       "\n",
       "    .dataframe thead th {\n",
       "        text-align: right;\n",
       "    }\n",
       "</style>\n",
       "<table border=\"1\" class=\"dataframe\">\n",
       "  <thead>\n",
       "    <tr style=\"text-align: right;\">\n",
       "      <th></th>\n",
       "      <th>state</th>\n",
       "      <th>cases_avg_per_day</th>\n",
       "      <th>cases_avg_per_day_adjusted</th>\n",
       "    </tr>\n",
       "  </thead>\n",
       "  <tbody>\n",
       "    <tr>\n",
       "      <th>45</th>\n",
       "      <td>VT</td>\n",
       "      <td>65.420975</td>\n",
       "      <td>0.0</td>\n",
       "    </tr>\n",
       "    <tr>\n",
       "      <th>10</th>\n",
       "      <td>HI</td>\n",
       "      <td>124.122600</td>\n",
       "      <td>0.0</td>\n",
       "    </tr>\n",
       "    <tr>\n",
       "      <th>49</th>\n",
       "      <td>WY</td>\n",
       "      <td>162.871492</td>\n",
       "      <td>0.0</td>\n",
       "    </tr>\n",
       "    <tr>\n",
       "      <th>20</th>\n",
       "      <td>ME</td>\n",
       "      <td>175.020679</td>\n",
       "      <td>0.0</td>\n",
       "    </tr>\n",
       "    <tr>\n",
       "      <th>0</th>\n",
       "      <td>AK</td>\n",
       "      <td>213.725258</td>\n",
       "      <td>0.0</td>\n",
       "    </tr>\n",
       "  </tbody>\n",
       "</table>\n",
       "</div>"
      ],
      "text/plain": [
       "   state  cases_avg_per_day  cases_avg_per_day_adjusted\n",
       "45    VT          65.420975                         0.0\n",
       "10    HI         124.122600                         0.0\n",
       "49    WY         162.871492                         0.0\n",
       "20    ME         175.020679                         0.0\n",
       "0     AK         213.725258                         0.0"
      ]
     },
     "execution_count": 110,
     "metadata": {},
     "output_type": "execute_result"
    }
   ],
   "source": [
    "# Apply adjusment to US Average Cases per State dataframe\n",
    "#df_us_covid_avgcases['cases_avg_per_day_adjusted'] = df_us_covid_avgcases['cases_avg_per_day'] / df_us_state_pop[df_us_state_pop['state'] == df_us_covid_avgcases['state']]\n",
    "\n",
    "for i, r in df_us_covid_avgcases.iterrows():\n",
    "    #pop_per_100k = df_us_covid_avgcases.iloc[i, 1]\n",
    "    print(i)\n",
    "\n",
    "#df_us_covid_avgcases.at[i, 'cases_avg_per_day_adjusted'] = df_us_covid_avgcases['cases_avg_per_day']\n",
    "\n",
    "df_us_covid_avgcases.head()"
   ]
  },
  {
   "cell_type": "code",
   "execution_count": 26,
   "id": "eafbe99e",
   "metadata": {},
   "outputs": [
    {
     "data": {
      "image/png": "[encoded data removed]",
      "text/plain": [
       "<Figure size 432x288 with 1 Axes>"
      ]
     },
     "metadata": {
      "needs_background": "light"
     },
     "output_type": "display_data"
    }
   ],
   "source": [
    "#import required libraries\n",
    "from scipy.stats import normaltest\n",
    "import scipy.stats as stats\n",
    "import matplotlib.pyplot as plt\n",
    "import seaborn as sns\n",
    "import warnings\n",
    "\n",
    "# Filter warnings out\n",
    "warnings.filterwarnings('ignore')\n",
    "\n",
    "# Allow matplot plots in jupiter\n",
    "%matplotlib inline\n",
    "\n",
    "# we set kde to false because by default it uses the kde\n",
    "sns.distplot(df4['new_death'], fit=stats.norm, kde=False)\n",
    "# add title, xlabel to the plot\n",
    "plt.title('Histogram distribution of new Covid cases')\n",
    "plt.xlabel('New covid cases per day')\n",
    "plt.show()"
   ]
  },
  {
   "cell_type": "code",
   "execution_count": null,
   "id": "f7969498",
   "metadata": {},
   "outputs": [],
   "source": []
  }
 ],
 "metadata": {
  "kernelspec": {
   "display_name": "Python 3",
   "language": "python",
   "name": "python3"
  },
  "language_info": {
   "codemirror_mode": {
    "name": "ipython",
    "version": 3
   },
   "file_extension": ".py",
   "mimetype": "text/x-python",
   "name": "python",
   "nbconvert_exporter": "python",
   "pygments_lexer": "ipython3",
   "version": "3.8.8"
  }
 },
 "nbformat": 4,
 "nbformat_minor": 5
}
